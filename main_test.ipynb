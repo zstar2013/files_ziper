{
 "cells": [
  {
   "cell_type": "code",
   "execution_count": 12,
   "metadata": {},
   "outputs": [],
   "source": [
    "import subprocess\n",
    "import os\n",
    "import zipfile\n",
    "from tqdm import tqdm\n",
    "def zipDir(dirpath,outFullName):\n",
    "    \"\"\"\n",
    "    压缩指定文件夹\n",
    "    :param dirpath: 目标文件夹路径\n",
    "    :param outFullName: 压缩文件保存路径+xxxx.zip\n",
    "    :return: 无\n",
    "    \"\"\"\n",
    "    list_=[]\n",
    "    zip = zipfile.ZipFile(outFullName,\"w\",zipfile.ZIP_DEFLATED)\n",
    "    for path,dirnames,filenames in os.walk(dirpath):\n",
    "        # 去掉目标跟路径，只对目标文件夹下边的文件及文件夹进行压缩\n",
    "        fpath = path.replace(dirpath,'')\n",
    "        for filename in filenames:\n",
    "            list_.append([filename,path])\n",
    "    bar = tqdm(list_)\n",
    "    for item in bar:\n",
    "        filename=item[0]\n",
    "        path=item[1]\n",
    "        fpath=path.replace(dirpath,'')\n",
    "        zip.write(os.path.join(path,filename),os.path.join(fpath,filename))\n",
    "    zip.close()\n",
    "cmd = \"adb\\\\adb shell ls /mnt/sdcard/EhViewer/download\"\n",
    "p=subprocess.Popen(cmd, shell=True, stdin=subprocess.PIPE,stdout=subprocess.PIPE,stderr=subprocess.PIPE)#, shell=True\n",
    "out=p.stdout.read().decode(\"utf-8\")\n",
    "out=out.replace('\\ ',' ')\n",
    "list_=out.split('\\r\\n')\n",
    "list_=[item.strip() for item in list_  if item != '']"
   ]
  },
  {
   "cell_type": "code",
   "execution_count": 23,
   "metadata": {},
   "outputs": [
    {
     "data": {
      "text/plain": [
       "'..\\\\adb\\\\adb pull /mnt/sdcard/EhViewer/download/\"1062084-[RegDic] Kimagure Hanabira + Toranoana Leaflet [Chinese] [鐒￠偑姘楁饥鍖栫祫]\"  D:\\\\python_projects\\\\files_ziper/output/\"1062084-[RegDic] Kimagure Hanabira + Toranoana Leaflet [Chinese] [無邪気漢化組]\"'"
      ]
     },
     "execution_count": 23,
     "metadata": {},
     "output_type": "execute_result"
    }
   ],
   "source": [
    "output_path=os.getcwd()+\"/output/\"\n",
    "filename=list_[0]\n",
    "filename_gbk=filename.encode(\"utf-8\").decode(\"gbk\")\n",
    "cmd='..\\\\adb\\\\adb pull /mnt/sdcard/EhViewer/download/\"'+filename_gbk+'\"  '+output_path+'\"'+filename+'\"'\n",
    "cmd"
   ]
  },
  {
   "cell_type": "code",
   "execution_count": null,
   "metadata": {},
   "outputs": [],
   "source": [
    "os.system(cmd)"
   ]
  },
  {
   "cell_type": "code",
   "execution_count": 11,
   "metadata": {},
   "outputs": [
    {
     "data": {
      "text/plain": [
       "['1062084-[RegDic] Kimagure Hanabira + Toranoana Leaflet [Chinese] [無邪気漢化組]',\n",
       " '1095149-[Moketa] Seisyun Orgasm  性愛狩獵 [Chinese]',\n",
       " '1110518-[Moketa] Hoshigari Kanojo - She Hankers After Sex Only [Chinese]',\n",
       " '1144825-[Muneshiro] Mesu Kousei [Chinese]',\n",
       " '1219810-[Ikuhana Niiro] Ikujitsu [English] [Decensored]',\n",
       " '1228541-[KENZsoft] Chou Chijo Maid! 2 [animated]',\n",
       " '1238057-[Asamine Tel] milking [Chinese]',\n",
       " '1246507-[Hinasaki Yo] Zutto Daisuki [Chinese] [篆儀通文書坊漢化]',\n",
       " '1270073-(C94) [Anmitsuyomogitei (Michiking)] Ohyakudo Jouzu no Sanae-san (Touhou Project) [Chinese] [脸肿汉化组]',\n",
       " '1332805-[Seacoxx] Zombie no Afureta Sekai de Ore dake ga Osowarenai',\n",
       " '1337590-[kakao] Hatsujou Beam - Desirable Beam [Chinese] [绅士仓库&篆儀通文書坊汉化]',\n",
       " '1348558-[Chicken] Paco Zakari ! [Chinese]',\n",
       " '1369128-[Shioroku] Smapho de ii nari Juujun Kanojo [Chinese]',\n",
       " '1371164-[feng] Yume to Iro de Dekiteiru',\n",
       " \"1375160-[Okumoto Yuuta] Hamechichi! - Let's Make Love Oppai! [Chinese] [篆儀通文書坊漢化] [Decensored]\",\n",
       " '1379509-[Takahashi] Lust Geass Vol.1 [Chinese] [新月汉化组]',\n",
       " '1379550-[Bota Mochito] Milky Time [Chinese] [無邪気漢化組]',\n",
       " '1384469-[Pennel] Egao no Omoide  笑容的回憶 (COMIC Kairakuten BEAST 2019-04) [Chinese] [兔司姬漢化組] [Digital]',\n",
       " '1386661-[Itsutsuse] Babbyu Babyu Babyu [Chinese] [無邪気漢化組&篆儀通文書坊漢化]',\n",
       " '1409689-[Regdic] Midara Switch - Sensual Switch [chinese]',\n",
       " '1411823-[Mori Takuya] Shitaku Nacchatta.  我變得好想要喔。 [Chinese]',\n",
       " '1412623-[DMM.com] Unitia',\n",
       " '1413661-[doumou] Koi Yagate Midara  戀上後就淫亂 [chinese]',\n",
       " '1413834-[Gustav] Reika wa Karei na Boku no Maid [Chinese] [無邪気漢化組]',\n",
       " '1414243-[Koppe] Shitataru Onna  滴落女 [Chinese]',\n",
       " '1415905-[Tamagoro] Caramel Hame-Art  焦糖般的香甜性愛 [chinese]',\n",
       " '1420540-[Homunculus] Kyuuai Étranger - un étranger se fait courtiser [Chinese]',\n",
       " '1421448-[Esuke] Hatsukoi yori Kimochi Ii - Feels so good than my first love  比起初戀還要更舒服 [chinese]',\n",
       " '1423816-[DATE] Doukyo Suru Neneki CH1~6 [Chinese] [洨五組] [Digital]',\n",
       " '1423851-[ASa Project] Suki to Suki to de Sankaku Renai  Love Triangle Trouble [Decensored]',\n",
       " '1426314-[Suihei Sen] Bungo ni neko (COMIC HOTMILK 2019-07) [Chinese] [兔司姬漢化組] [Digital]',\n",
       " '1428498-[Suzudama Renri] Milky Memory  乳白色的淫靡記憶 [Chinese]',\n",
       " '1429590-[Inu] Hatsu Inu - Anfang Hund [Chinese] [Decensored]',\n",
       " '1429607-[Inu] Hatsu Inu 3 - Anfang Hund Drei [Chinese] [悠月工房] [Decensored]',\n",
       " '1429608-[Inu] Hatsu Inu 2 - Anfang Hund Zwei [Chinese] [悠月工房] [Decensored]',\n",
       " '1431245-[Tomono Hiro] Tadashii Koubi no Susume  正確的交尾法推薦你 [Chinese]',\n",
       " '1431989-[Fujimaru] Kyouka no Niwa (COMIC Kairakuten 2019-05) [Chinese] [期末考試不想復習靠著本子摸魚的個人漢化] [Digital]',\n",
       " '1432930-[Rokkaku Yasosuke] Shinobu-chan no Sukusuku Nikki  小忍妹妹的成長日記 (COMIC Shitsurakuten 2019-06) [Chinese] [我尻就變態✕無邪気漢化組] [Digital]',\n",
       " '1434583-[Kizuka Kazuki] Sakari Matsuri  發情的學園祭 [Chinese]',\n",
       " '1435309-[Shinobu Tanei] Imouto no Kiken na Anzenbi  繼妹的危險的安全日 [Chinese]',\n",
       " '1435468-[Nasipasuta] Densha no Naka de  在電車上 (COMIC ExE 18) [Chinese] [個人翻譯 by 釀泉] [Digital]',\n",
       " '1435699-[Kazakura] Hana Bira Otome  花唇瓣乙女 [chinese]',\n",
       " '1435752-[Okara] Cat bite  裝乖巧女孩 [chinese]',\n",
       " '1436505-[Ichinose Land] Fuwatoro H Land [Chinese]',\n",
       " '1437284-[Momoduki Suzu] Nametagari - I am crazy about you and will be bold.  想要舔不停 [chinese]',\n",
       " '1437296-[Kenji] Karigogo ~Nikuyoku Shoujo~ 1-4 [Chinese] [Digital]',\n",
       " '1437360-[Tulip] Hajimete no Succubus no Sotsugyou Shiken (COMIC X-EROS #72) [Chinese] [無邪気漢化組] [Digital]',\n",
       " '1438040-[Herio] Sukoshi wa Ganbare! Meina-chan (COMIC ExE 19) [Chinese] [超凹棒棒ㄐㄐ棒汁個人翻譯] [Digital]',\n",
       " '1438139-[H9] Mechax Shiyo  翻天覆地的幹吧 [Chinese]',\n",
       " '1441167-[Izumiya Otoha] Hatsukoi Melty - Melty First Love  初戀甜美溶化 [Chinese]',\n",
       " '1442303-[Kimirito]Ero Manga Hyogen Shi  成人漫畫表現史[Chinese]',\n",
       " '1443315-[Herio] Toshoshitsu o Shimete kara (COMIC ExE 18) [Chinese] [佳奈助汉化组] [Digital]',\n",
       " '1443628-[Shimapan (Tachibana Omina)] Isekai Harem Monogatari Soushuuhen 1 [Chinese]',\n",
       " '1444090-(C86) [MTSP (Jin)] 橘さん家ノ男性事情 まとめ版 [中国翻訳] [カラー化] [無修正]-(C86) [MTSP (Jin)] Tachibana-san-chi no Dansei Jijou Matome Ban [Chinese] [天月NTR漢化組x配菜無修改圖] [Colorized] [Decensored]',\n",
       " '1444180-[Napata] Sukidarake [Chinese] [脸肿汉化组]',\n",
       " '1448836-[Tonnosuke] Keiren Love Piston - Onee-san wa Hentai Omocha  痙攣愛慾活塞運動 大姊姊她是變態玩具 [Chinese]',\n",
       " '1451460-Artist Galleries  Arhoangel',\n",
       " '1451949-[Mikemono Yuu] Torokeru Gohoubi [Chinese] [無邪気漢化組]',\n",
       " '1455345-[Nekomata Naomi] Onedari Pussies [Chinese]',\n",
       " '1456935-[宇場義行] ハレムスパイラル [chinese]',\n",
       " '1456937-[Shinozuka Yuuji] Hajimeteno Hitozuma [Chinese]',\n",
       " '1457670-[Saicoro Chick (Hinasaki)] Houkago no Sasayaki [Chinese]',\n",
       " '1458033-[DATE] reincarnation ~Ubawareta Shoujo no Karada~ [Chinese] [篆儀通文書坊漢化]',\n",
       " '1458155-[Ikuhana Niro] Ikujitsu [Chinese]',\n",
       " \"1459302-[Kisen] Seijo-tachi no Komoriuta - Heroines' Lullaby [Chinese] [兔司姬X一匙咖啡豆聯合漢化]\",\n",
       " '1459924-[Tsukimoto Kizuki] Sex no Yoshuu Shimasen ka ~Seikou no Jitsugi Shiken ga Dounyuu Sareta Shakai~ Ch. 1 (COMIC Ananga Ranga Vol. 49) [Chinese] [無邪気漢化組]',\n",
       " '1462456-[Seacoxx] Zombie no Afureta Sekai de Ore Dake ga Osowarenai vol.2  I Walk Among Zombies Vol. 2 [Decensored]',\n",
       " '1462635-[Meme50] Limit Break [Chinese Translated]',\n",
       " '1462653-[Shiwasu no Okina] Ero Pippi  慾情♡青春 [Chinese] [未來數位中文] [Digital]',\n",
       " '1463665-(C96) [Anmitsuyomogitei (Michiking)] ANMITSU TOUHOU THE AFTER Vol.2 (Touhou Project) [Chinese] [CE家族社×無邪気]',\n",
       " '1466070-[Yanyo] Love Sugi! [Digital] [Decensored]',\n",
       " '1467027-[doumou] Koi Yagate Midara - Nasty after Love. [Chinese] [篆儀通文書坊漢化]',\n",
       " '1467293-[A-10] Load of Trash Kanzenban [Chinese] [沒有漢化]',\n",
       " '1467340-[mon-petit] Love & Libido - Kanojo-tachi no Seijijou [chinese]',\n",
       " '1470915-[Yamamoto Yammy] Nichijou Bitch Seitai Kansatsu [Chinese] [無邪気漢化組]',\n",
       " '1474855-[DMM.com] Unitia',\n",
       " '1481159-[Itsutsuse] Puchupuri Enkeki! (コミックゼロス #78) [無邪気漢化組][MJK-19-Z1662][無修正]',\n",
       " '1481241-[Kirihara You] Motto Meshimase  我們再多做幾次 [Chinese]',\n",
       " '1481768-[Ikeshita Maue] Choroane Lovers  輕浮淫姊騷浪愛人們 [Chinese]',\n",
       " '1483302-[Iwasaki Yuuki] Etsuran Chuui [Chinese]',\n",
       " '1485286-[Tanaka Naburu] Seieki Dorobou [chinese]',\n",
       " '1486271-[Key] Hime Hajime (COMIC Kairakuten 2019-09) [Chinese] [國家機器逼我個人翻譯] [Digital]',\n",
       " '1487213-[Thomas] Puffy Fragrance [chinese]',\n",
       " '1487814-[Asamine Tel] Onechan Zanmai! (COMIC BAVEL 2019-08) [Chinese] [佳奈助汉化组] [Digital]',\n",
       " '1491761-[DATE] Doukyo Suru Neneki CH1~7 [Chinese] [洨五組] [Digital]',\n",
       " '1493013-[Wakamesan] Saretagari [Chinese]',\n",
       " '1493748-[Shindou] Ojou-sama to Maid no Midara na Seikatsu [Chinese] [无毒汉化组]',\n",
       " '1497309-[Miyabi] Iromeki Dasu Sekai [Chinese] [無邪気漢化組]',\n",
       " '1498155-[Henkuma] Libido [chinese]',\n",
       " \"1498684-[Okumoto Yuuta] Hamechichi! - Let's Make Love Oppai! [Chinese]\",\n",
       " '1499965-[鳳まひろ] 僕の異世界ハーレム 総集編 1 [chinese]',\n",
       " '1500147-[Katsurai Yoshiaki] Amatsuka Gakuen no Ryoukan Seikatsu Ch.1-3 [Chinese]',\n",
       " '1501175-[Booch] Ultra Love Love Aishiteru!! [Chinese] [篆儀通文書坊漢化]',\n",
       " '1501609-[Pei] Hajirai Honey  羞答答的小白兔 [Chinese]',\n",
       " '1503626-[Whirlpool] Neko-nin exHeart 3 [Decensored]',\n",
       " '1504276-[Yagami Shuuichi] Kanrichuu no Sore o Shibatte Agetai  管理中的那根想幫你緊緊綑綁住 [Chinese]',\n",
       " '1504425-[Yokoshima Nikki] Yokoshima Musume',\n",
       " '1504904-[绅士仓库汉化] [もじゃりん] 1回だけ (COMIC快楽天 2018年8月号) [無修正]',\n",
       " '1505690-[Akino Sora] Sleep Learning -Zenpen- (COMIC X-EROS 79) [Chinese] [無邪気漢化組] [Digital]',\n",
       " '1505699-[Akino Sora] Sleep Learning -Kouhen- (COMIC X-EROS 80) [Chinese] [無邪気漢化組] [Digital]',\n",
       " '1506396-[Jorori] Kimi ga Suki。 好喜歡你。[Chinese]',\n",
       " '1508143-[Barlun] Majime de Megane na Oppai-tachi  很正經又戴眼鏡的美乳寶貝們 [Chinese]',\n",
       " '1508506-Sky-Freedom (スカイ) - JK Rich Thots (Complete)',\n",
       " '1511994-[Kazakura] Hana Bira Otome [Chinese] [篆儀通文書坊漢化]',\n",
       " '1512978-[Yuuki Shin] Ecchi Life!(傲娇零の间隙娘扫图)',\n",
       " '1515784-[Takeda Hiromitsu] Ima Ria [Chinese] [空気系☆漢化]',\n",
       " '1516869-[Muneshiro] Dekiai Koubi [Chinese]',\n",
       " '938765-[Asamine Tel] Kyuuai Mental [Chinese] [大仙个人汉化] [Digital]',\n",
       " '953232-[Ashiomi Masato] D-Medal [Chinese] [無邪気漢化組]']"
      ]
     },
     "execution_count": 11,
     "metadata": {},
     "output_type": "execute_result"
    }
   ],
   "source": [
    "zipDir('C:/Users/ajbzx/Downloads/tmp/'+filename+'/','C:/Users/ajbzx/Downloads/tmp/'+filename+'.zip')"
   ]
  },
  {
   "cell_type": "code",
   "execution_count": 19,
   "metadata": {},
   "outputs": [
    {
     "ename": "AttributeError",
     "evalue": "module 'os' has no attribute 'dir'",
     "output_type": "error",
     "traceback": [
      "\u001b[1;31m---------------------------------------------------------------------------\u001b[0m",
      "\u001b[1;31mAttributeError\u001b[0m                            Traceback (most recent call last)",
      "\u001b[1;32m<ipython-input-19-1b798660c993>\u001b[0m in \u001b[0;36m<module>\u001b[1;34m\u001b[0m\n\u001b[1;32m----> 1\u001b[1;33m \u001b[0mos\u001b[0m\u001b[1;33m.\u001b[0m\u001b[0mdir\u001b[0m\u001b[1;33m(\u001b[0m\u001b[1;33m)\u001b[0m\u001b[1;33m\u001b[0m\u001b[0m\n\u001b[0m",
      "\u001b[1;31mAttributeError\u001b[0m: module 'os' has no attribute 'dir'"
     ]
    }
   ],
   "source": [
    "os.system"
   ]
  },
  {
   "cell_type": "code",
   "execution_count": null,
   "metadata": {},
   "outputs": [],
   "source": []
  }
 ],
 "metadata": {
  "kernelspec": {
   "display_name": "Python 3",
   "language": "python",
   "name": "python3"
  },
  "language_info": {
   "codemirror_mode": {
    "name": "ipython",
    "version": 3
   },
   "file_extension": ".py",
   "mimetype": "text/x-python",
   "name": "python",
   "nbconvert_exporter": "python",
   "pygments_lexer": "ipython3",
   "version": "3.6.3"
  }
 },
 "nbformat": 4,
 "nbformat_minor": 2
}
