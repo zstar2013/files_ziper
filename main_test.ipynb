{
 "cells": [
  {
   "cell_type": "code",
   "execution_count": 47,
   "metadata": {},
   "outputs": [],
   "source": [
    "import subprocess\n",
    "import os\n",
    "import sys\n",
    "import zipfile\n",
    "from tqdm import tqdm\n",
    "def zipDir(dirpath,outFullName):\n",
    "    \"\"\"\n",
    "    压缩指定文件夹\n",
    "    :param dirpath: 目标文件夹路径\n",
    "    :param outFullName: 压缩文件保存路径+xxxx.zip\n",
    "    :return: 无\n",
    "    \"\"\"\n",
    "    list_=[]\n",
    "    zip = zipfile.ZipFile(outFullName,\"w\",zipfile.ZIP_DEFLATED)\n",
    "    for path,dirnames,filenames in os.walk(dirpath):\n",
    "        # 去掉目标跟路径，只对目标文件夹下边的文件及文件夹进行压缩\n",
    "        fpath = path.replace(dirpath,'')\n",
    "        for filename in filenames:\n",
    "            list_.append([filename,path])\n",
    "    bar = tqdm(list_)\n",
    "    for item in bar:\n",
    "        filename=item[0]\n",
    "        path=item[1]\n",
    "        fpath=path.replace(dirpath,'')\n",
    "        zip.write(os.path.join(path,filename),os.path.join(fpath,filename))\n",
    "    zip.close()\n",
    "\n",
    "def check_diff2(path_local,list_source,suffix='.zip'):\n",
    "    list_local=[]\n",
    "    \n",
    "    for root, dirs, files in os.walk(path_local, topdown=False):\n",
    "        for file in files:\n",
    "            if os.path.splitext(file)[1] == suffix:\n",
    "                filename=os.path.splitext(file)[0]\n",
    "                list_local.append(filename)\n",
    "    #print(\"local\",set(list_a))\n",
    "    #print(\"source\",set(list_source))\n",
    "    #diff = set(list_a).difference(set(list_source))# 差集，在local中但不在source中的元素\n",
    "#     print(len(diff))\n",
    "#     for name in diff:\n",
    "#         print(\"no dir：  \"+ name)\n",
    "    diff = set(list_source).difference(set(list_local))# 差集，在source中但不在local中的元素\n",
    "    #print(len(diff2))\n",
    "#     for name in diff2:\n",
    "#         print(\"no\" ,suffix[1:]+\"  \"+name + suffix)\n",
    "    return list(diff)\n",
    "\n",
    "def check_diff3(path_local,list_source,suffix='.zip'):\n",
    "    for root, dirs, files in os.walk(path_local, topdown=False):\n",
    "        for file in files:\n",
    "            if os.path.splitext(file)[1] == suffix:\n",
    "                filename=os.path.splitext(file)[0]\n",
    "                #print(filename)\n",
    "                if(filename in list_source):\n",
    "                    list_source.remove(filename)\n",
    "    return list_source    \n",
    "cmd = \"adb\\\\adb shell ls /mnt/sdcard/EhViewer/download\"\n",
    "p=subprocess.Popen(cmd, shell=True, stdin=subprocess.PIPE,stdout=subprocess.PIPE,stderr=subprocess.PIPE)#, shell=True\n",
    "out=p.stdout.read().decode(\"utf-8\")\n",
    "out=out.replace('\\ ',' ')\n",
    "list_=out.split('\\r\\n')\n",
    "list_=[item.strip() for item in list_  if item != '']"
   ]
  },
  {
   "cell_type": "code",
   "execution_count": 45,
   "metadata": {},
   "outputs": [
    {
     "data": {
      "text/plain": [
       "'adb\\\\adb pull /mnt/sdcard/EhViewer/download/\"b\\'1062084-[RegDic] Kimagure Hanabira + Toranoana Leaflet [Chinese] [\\\\xe7\\\\x84\\\\xa1\\\\xe9\\\\x82\\\\xaa\\\\xe6\\\\xb0\\\\x97\\\\xe6\\\\xbc\\\\xa2\\\\xe5\\\\x8c\\\\x96\\\\xe7\\\\xb5\\\\x84]\\'\"  C:\\\\Users\\\\ajbzx\\\\python_project\\\\files_ziper/output/\"1062084-[RegDic] Kimagure Hanabira + Toranoana Leaflet [Chinese] [無邪気漢化組]\"'"
      ]
     },
     "execution_count": 45,
     "metadata": {},
     "output_type": "execute_result"
    },
    {
     "data": {
      "text/plain": [
       "'adb\\\\adb pull /mnt/sdcard/EhViewer/download/\"b\\'1095149-[Moketa] Seisyun Orgasm  \\\\xe6\\\\x80\\\\xa7\\\\xe6\\\\x84\\\\x9b\\\\xe7\\\\x8b\\\\xa9\\\\xe7\\\\x8d\\\\xb5 [Chinese]\\'\"  C:\\\\Users\\\\ajbzx\\\\python_project\\\\files_ziper/output/\"1095149-[Moketa] Seisyun Orgasm  性愛狩獵 [Chinese]\"'"
      ]
     },
     "execution_count": 45,
     "metadata": {},
     "output_type": "execute_result"
    },
    {
     "data": {
      "text/plain": [
       "'adb\\\\adb pull /mnt/sdcard/EhViewer/download/\"b\\'1110518-[Moketa] Hoshigari Kanojo - She Hankers After Sex Only [Chinese]\\'\"  C:\\\\Users\\\\ajbzx\\\\python_project\\\\files_ziper/output/\"1110518-[Moketa] Hoshigari Kanojo - She Hankers After Sex Only [Chinese]\"'"
      ]
     },
     "execution_count": 45,
     "metadata": {},
     "output_type": "execute_result"
    },
    {
     "data": {
      "text/plain": [
       "'adb\\\\adb pull /mnt/sdcard/EhViewer/download/\"b\\'1144825-[Muneshiro] Mesu Kousei [Chinese]\\'\"  C:\\\\Users\\\\ajbzx\\\\python_project\\\\files_ziper/output/\"1144825-[Muneshiro] Mesu Kousei [Chinese]\"'"
      ]
     },
     "execution_count": 45,
     "metadata": {},
     "output_type": "execute_result"
    },
    {
     "data": {
      "text/plain": [
       "'adb\\\\adb pull /mnt/sdcard/EhViewer/download/\"b\\'1219810-[Ikuhana Niiro] Ikujitsu [English] [Decensored]\\'\"  C:\\\\Users\\\\ajbzx\\\\python_project\\\\files_ziper/output/\"1219810-[Ikuhana Niiro] Ikujitsu [English] [Decensored]\"'"
      ]
     },
     "execution_count": 45,
     "metadata": {},
     "output_type": "execute_result"
    },
    {
     "data": {
      "text/plain": [
       "'adb\\\\adb pull /mnt/sdcard/EhViewer/download/\"b\\'1228541-[KENZsoft] Chou Chijo Maid! 2 [animated]\\'\"  C:\\\\Users\\\\ajbzx\\\\python_project\\\\files_ziper/output/\"1228541-[KENZsoft] Chou Chijo Maid! 2 [animated]\"'"
      ]
     },
     "execution_count": 45,
     "metadata": {},
     "output_type": "execute_result"
    },
    {
     "data": {
      "text/plain": [
       "'adb\\\\adb pull /mnt/sdcard/EhViewer/download/\"b\\'1238057-[Asamine Tel] milking [Chinese]\\'\"  C:\\\\Users\\\\ajbzx\\\\python_project\\\\files_ziper/output/\"1238057-[Asamine Tel] milking [Chinese]\"'"
      ]
     },
     "execution_count": 45,
     "metadata": {},
     "output_type": "execute_result"
    },
    {
     "data": {
      "text/plain": [
       "'adb\\\\adb pull /mnt/sdcard/EhViewer/download/\"b\\'1246507-[Hinasaki Yo] Zutto Daisuki [Chinese] [\\\\xe7\\\\xaf\\\\x86\\\\xe5\\\\x84\\\\x80\\\\xe9\\\\x80\\\\x9a\\\\xe6\\\\x96\\\\x87\\\\xe6\\\\x9b\\\\xb8\\\\xe5\\\\x9d\\\\x8a\\\\xe6\\\\xbc\\\\xa2\\\\xe5\\\\x8c\\\\x96]\\'\"  C:\\\\Users\\\\ajbzx\\\\python_project\\\\files_ziper/output/\"1246507-[Hinasaki Yo] Zutto Daisuki [Chinese] [篆儀通文書坊漢化]\"'"
      ]
     },
     "execution_count": 45,
     "metadata": {},
     "output_type": "execute_result"
    },
    {
     "data": {
      "text/plain": [
       "'adb\\\\adb pull /mnt/sdcard/EhViewer/download/\"b\\'1270073-(C94) [Anmitsuyomogitei (Michiking)] Ohyakudo Jouzu no Sanae-san (Touhou Project) [Chinese] [\\\\xe8\\\\x84\\\\xb8\\\\xe8\\\\x82\\\\xbf\\\\xe6\\\\xb1\\\\x89\\\\xe5\\\\x8c\\\\x96\\\\xe7\\\\xbb\\\\x84]\\'\"  C:\\\\Users\\\\ajbzx\\\\python_project\\\\files_ziper/output/\"1270073-(C94) [Anmitsuyomogitei (Michiking)] Ohyakudo Jouzu no Sanae-san (Touhou Project) [Chinese] [脸肿汉化组]\"'"
      ]
     },
     "execution_count": 45,
     "metadata": {},
     "output_type": "execute_result"
    },
    {
     "data": {
      "text/plain": [
       "'adb\\\\adb pull /mnt/sdcard/EhViewer/download/\"b\\'1332805-[Seacoxx] Zombie no Afureta Sekai de Ore dake ga Osowarenai\\'\"  C:\\\\Users\\\\ajbzx\\\\python_project\\\\files_ziper/output/\"1332805-[Seacoxx] Zombie no Afureta Sekai de Ore dake ga Osowarenai\"'"
      ]
     },
     "execution_count": 45,
     "metadata": {},
     "output_type": "execute_result"
    },
    {
     "data": {
      "text/plain": [
       "'adb\\\\adb pull /mnt/sdcard/EhViewer/download/\"b\\'1337590-[kakao] Hatsujou Beam - Desirable Beam [Chinese] [\\\\xe7\\\\xbb\\\\x85\\\\xe5\\\\xa3\\\\xab\\\\xe4\\\\xbb\\\\x93\\\\xe5\\\\xba\\\\x93&\\\\xe7\\\\xaf\\\\x86\\\\xe5\\\\x84\\\\x80\\\\xe9\\\\x80\\\\x9a\\\\xe6\\\\x96\\\\x87\\\\xe6\\\\x9b\\\\xb8\\\\xe5\\\\x9d\\\\x8a\\\\xe6\\\\xb1\\\\x89\\\\xe5\\\\x8c\\\\x96]\\'\"  C:\\\\Users\\\\ajbzx\\\\python_project\\\\files_ziper/output/\"1337590-[kakao] Hatsujou Beam - Desirable Beam [Chinese] [绅士仓库&篆儀通文書坊汉化]\"'"
      ]
     },
     "execution_count": 45,
     "metadata": {},
     "output_type": "execute_result"
    },
    {
     "data": {
      "text/plain": [
       "'adb\\\\adb pull /mnt/sdcard/EhViewer/download/\"b\\'1348558-[Chicken] Paco Zakari ! [Chinese]\\'\"  C:\\\\Users\\\\ajbzx\\\\python_project\\\\files_ziper/output/\"1348558-[Chicken] Paco Zakari ! [Chinese]\"'"
      ]
     },
     "execution_count": 45,
     "metadata": {},
     "output_type": "execute_result"
    },
    {
     "data": {
      "text/plain": [
       "'adb\\\\adb pull /mnt/sdcard/EhViewer/download/\"b\\'1369128-[Shioroku] Smapho de ii nari Juujun Kanojo [Chinese]\\'\"  C:\\\\Users\\\\ajbzx\\\\python_project\\\\files_ziper/output/\"1369128-[Shioroku] Smapho de ii nari Juujun Kanojo [Chinese]\"'"
      ]
     },
     "execution_count": 45,
     "metadata": {},
     "output_type": "execute_result"
    },
    {
     "data": {
      "text/plain": [
       "'adb\\\\adb pull /mnt/sdcard/EhViewer/download/\"b\\'1371164-[feng] Yume to Iro de Dekiteiru\\'\"  C:\\\\Users\\\\ajbzx\\\\python_project\\\\files_ziper/output/\"1371164-[feng] Yume to Iro de Dekiteiru\"'"
      ]
     },
     "execution_count": 45,
     "metadata": {},
     "output_type": "execute_result"
    },
    {
     "data": {
      "text/plain": [
       "'adb\\\\adb pull /mnt/sdcard/EhViewer/download/\"b\"1375160-[Okumoto Yuuta] Hamechichi! - Let\\'s Make Love Oppai! [Chinese] [\\\\xe7\\\\xaf\\\\x86\\\\xe5\\\\x84\\\\x80\\\\xe9\\\\x80\\\\x9a\\\\xe6\\\\x96\\\\x87\\\\xe6\\\\x9b\\\\xb8\\\\xe5\\\\x9d\\\\x8a\\\\xe6\\\\xbc\\\\xa2\\\\xe5\\\\x8c\\\\x96] [Decensored]\"\"  C:\\\\Users\\\\ajbzx\\\\python_project\\\\files_ziper/output/\"1375160-[Okumoto Yuuta] Hamechichi! - Let\\'s Make Love Oppai! [Chinese] [篆儀通文書坊漢化] [Decensored]\"'"
      ]
     },
     "execution_count": 45,
     "metadata": {},
     "output_type": "execute_result"
    },
    {
     "data": {
      "text/plain": [
       "'adb\\\\adb pull /mnt/sdcard/EhViewer/download/\"b\\'1379509-[Takahashi] Lust Geass Vol.1 [Chinese] [\\\\xe6\\\\x96\\\\xb0\\\\xe6\\\\x9c\\\\x88\\\\xe6\\\\xb1\\\\x89\\\\xe5\\\\x8c\\\\x96\\\\xe7\\\\xbb\\\\x84]\\'\"  C:\\\\Users\\\\ajbzx\\\\python_project\\\\files_ziper/output/\"1379509-[Takahashi] Lust Geass Vol.1 [Chinese] [新月汉化组]\"'"
      ]
     },
     "execution_count": 45,
     "metadata": {},
     "output_type": "execute_result"
    },
    {
     "data": {
      "text/plain": [
       "'adb\\\\adb pull /mnt/sdcard/EhViewer/download/\"b\\'1379550-[Bota Mochito] Milky Time [Chinese] [\\\\xe7\\\\x84\\\\xa1\\\\xe9\\\\x82\\\\xaa\\\\xe6\\\\xb0\\\\x97\\\\xe6\\\\xbc\\\\xa2\\\\xe5\\\\x8c\\\\x96\\\\xe7\\\\xb5\\\\x84]\\'\"  C:\\\\Users\\\\ajbzx\\\\python_project\\\\files_ziper/output/\"1379550-[Bota Mochito] Milky Time [Chinese] [無邪気漢化組]\"'"
      ]
     },
     "execution_count": 45,
     "metadata": {},
     "output_type": "execute_result"
    },
    {
     "data": {
      "text/plain": [
       "'adb\\\\adb pull /mnt/sdcard/EhViewer/download/\"b\\'1384469-[Pennel] Egao no Omoide  \\\\xe7\\\\xac\\\\x91\\\\xe5\\\\xae\\\\xb9\\\\xe7\\\\x9a\\\\x84\\\\xe5\\\\x9b\\\\x9e\\\\xe6\\\\x86\\\\xb6 (COMIC Kairakuten BEAST 2019-04) [Chinese] [\\\\xe5\\\\x85\\\\x94\\\\xe5\\\\x8f\\\\xb8\\\\xe5\\\\xa7\\\\xac\\\\xe6\\\\xbc\\\\xa2\\\\xe5\\\\x8c\\\\x96\\\\xe7\\\\xb5\\\\x84] [Digital]\\'\"  C:\\\\Users\\\\ajbzx\\\\python_project\\\\files_ziper/output/\"1384469-[Pennel] Egao no Omoide  笑容的回憶 (COMIC Kairakuten BEAST 2019-04) [Chinese] [兔司姬漢化組] [Digital]\"'"
      ]
     },
     "execution_count": 45,
     "metadata": {},
     "output_type": "execute_result"
    },
    {
     "data": {
      "text/plain": [
       "'adb\\\\adb pull /mnt/sdcard/EhViewer/download/\"b\\'1386661-[Itsutsuse] Babbyu Babyu Babyu [Chinese] [\\\\xe7\\\\x84\\\\xa1\\\\xe9\\\\x82\\\\xaa\\\\xe6\\\\xb0\\\\x97\\\\xe6\\\\xbc\\\\xa2\\\\xe5\\\\x8c\\\\x96\\\\xe7\\\\xb5\\\\x84&\\\\xe7\\\\xaf\\\\x86\\\\xe5\\\\x84\\\\x80\\\\xe9\\\\x80\\\\x9a\\\\xe6\\\\x96\\\\x87\\\\xe6\\\\x9b\\\\xb8\\\\xe5\\\\x9d\\\\x8a\\\\xe6\\\\xbc\\\\xa2\\\\xe5\\\\x8c\\\\x96]\\'\"  C:\\\\Users\\\\ajbzx\\\\python_project\\\\files_ziper/output/\"1386661-[Itsutsuse] Babbyu Babyu Babyu [Chinese] [無邪気漢化組&篆儀通文書坊漢化]\"'"
      ]
     },
     "execution_count": 45,
     "metadata": {},
     "output_type": "execute_result"
    },
    {
     "data": {
      "text/plain": [
       "'adb\\\\adb pull /mnt/sdcard/EhViewer/download/\"b\\'1409689-[Regdic] Midara Switch - Sensual Switch [chinese]\\'\"  C:\\\\Users\\\\ajbzx\\\\python_project\\\\files_ziper/output/\"1409689-[Regdic] Midara Switch - Sensual Switch [chinese]\"'"
      ]
     },
     "execution_count": 45,
     "metadata": {},
     "output_type": "execute_result"
    },
    {
     "data": {
      "text/plain": [
       "'adb\\\\adb pull /mnt/sdcard/EhViewer/download/\"b\\'1411823-[Mori Takuya] Shitaku Nacchatta.  \\\\xe6\\\\x88\\\\x91\\\\xe8\\\\xae\\\\x8a\\\\xe5\\\\xbe\\\\x97\\\\xe5\\\\xa5\\\\xbd\\\\xe6\\\\x83\\\\xb3\\\\xe8\\\\xa6\\\\x81\\\\xe5\\\\x96\\\\x94\\\\xe3\\\\x80\\\\x82 [Chinese]\\'\"  C:\\\\Users\\\\ajbzx\\\\python_project\\\\files_ziper/output/\"1411823-[Mori Takuya] Shitaku Nacchatta.  我變得好想要喔。 [Chinese]\"'"
      ]
     },
     "execution_count": 45,
     "metadata": {},
     "output_type": "execute_result"
    },
    {
     "data": {
      "text/plain": [
       "'adb\\\\adb pull /mnt/sdcard/EhViewer/download/\"b\\'1412623-[DMM.com] Unitia\\'\"  C:\\\\Users\\\\ajbzx\\\\python_project\\\\files_ziper/output/\"1412623-[DMM.com] Unitia\"'"
      ]
     },
     "execution_count": 45,
     "metadata": {},
     "output_type": "execute_result"
    },
    {
     "data": {
      "text/plain": [
       "'adb\\\\adb pull /mnt/sdcard/EhViewer/download/\"b\\'1413661-[doumou] Koi Yagate Midara  \\\\xe6\\\\x88\\\\x80\\\\xe4\\\\xb8\\\\x8a\\\\xe5\\\\xbe\\\\x8c\\\\xe5\\\\xb0\\\\xb1\\\\xe6\\\\xb7\\\\xab\\\\xe4\\\\xba\\\\x82 [chinese]\\'\"  C:\\\\Users\\\\ajbzx\\\\python_project\\\\files_ziper/output/\"1413661-[doumou] Koi Yagate Midara  戀上後就淫亂 [chinese]\"'"
      ]
     },
     "execution_count": 45,
     "metadata": {},
     "output_type": "execute_result"
    },
    {
     "data": {
      "text/plain": [
       "'adb\\\\adb pull /mnt/sdcard/EhViewer/download/\"b\\'1413834-[Gustav] Reika wa Karei na Boku no Maid [Chinese] [\\\\xe7\\\\x84\\\\xa1\\\\xe9\\\\x82\\\\xaa\\\\xe6\\\\xb0\\\\x97\\\\xe6\\\\xbc\\\\xa2\\\\xe5\\\\x8c\\\\x96\\\\xe7\\\\xb5\\\\x84]\\'\"  C:\\\\Users\\\\ajbzx\\\\python_project\\\\files_ziper/output/\"1413834-[Gustav] Reika wa Karei na Boku no Maid [Chinese] [無邪気漢化組]\"'"
      ]
     },
     "execution_count": 45,
     "metadata": {},
     "output_type": "execute_result"
    },
    {
     "data": {
      "text/plain": [
       "'adb\\\\adb pull /mnt/sdcard/EhViewer/download/\"b\\'1414243-[Koppe] Shitataru Onna  \\\\xe6\\\\xbb\\\\xb4\\\\xe8\\\\x90\\\\xbd\\\\xe5\\\\xa5\\\\xb3 [Chinese]\\'\"  C:\\\\Users\\\\ajbzx\\\\python_project\\\\files_ziper/output/\"1414243-[Koppe] Shitataru Onna  滴落女 [Chinese]\"'"
      ]
     },
     "execution_count": 45,
     "metadata": {},
     "output_type": "execute_result"
    },
    {
     "data": {
      "text/plain": [
       "'adb\\\\adb pull /mnt/sdcard/EhViewer/download/\"b\\'1415905-[Tamagoro] Caramel Hame-Art  \\\\xe7\\\\x84\\\\xa6\\\\xe7\\\\xb3\\\\x96\\\\xe8\\\\x88\\\\xac\\\\xe7\\\\x9a\\\\x84\\\\xe9\\\\xa6\\\\x99\\\\xe7\\\\x94\\\\x9c\\\\xe6\\\\x80\\\\xa7\\\\xe6\\\\x84\\\\x9b [chinese]\\'\"  C:\\\\Users\\\\ajbzx\\\\python_project\\\\files_ziper/output/\"1415905-[Tamagoro] Caramel Hame-Art  焦糖般的香甜性愛 [chinese]\"'"
      ]
     },
     "execution_count": 45,
     "metadata": {},
     "output_type": "execute_result"
    },
    {
     "data": {
      "text/plain": [
       "'adb\\\\adb pull /mnt/sdcard/EhViewer/download/\"b\\'1420540-[Homunculus] Kyuuai \\\\xc3\\\\x89tranger - un \\\\xc3\\\\xa9tranger se fait courtiser [Chinese]\\'\"  C:\\\\Users\\\\ajbzx\\\\python_project\\\\files_ziper/output/\"1420540-[Homunculus] Kyuuai Étranger - un étranger se fait courtiser [Chinese]\"'"
      ]
     },
     "execution_count": 45,
     "metadata": {},
     "output_type": "execute_result"
    },
    {
     "data": {
      "text/plain": [
       "'adb\\\\adb pull /mnt/sdcard/EhViewer/download/\"b\\'1421448-[Esuke] Hatsukoi yori Kimochi Ii - Feels so good than my first love  \\\\xe6\\\\xaf\\\\x94\\\\xe8\\\\xb5\\\\xb7\\\\xe5\\\\x88\\\\x9d\\\\xe6\\\\x88\\\\x80\\\\xe9\\\\x82\\\\x84\\\\xe8\\\\xa6\\\\x81\\\\xe6\\\\x9b\\\\xb4\\\\xe8\\\\x88\\\\x92\\\\xe6\\\\x9c\\\\x8d [chinese]\\'\"  C:\\\\Users\\\\ajbzx\\\\python_project\\\\files_ziper/output/\"1421448-[Esuke] Hatsukoi yori Kimochi Ii - Feels so good than my first love  比起初戀還要更舒服 [chinese]\"'"
      ]
     },
     "execution_count": 45,
     "metadata": {},
     "output_type": "execute_result"
    },
    {
     "data": {
      "text/plain": [
       "'adb\\\\adb pull /mnt/sdcard/EhViewer/download/\"b\\'1423816-[DATE] Doukyo Suru Neneki CH1~6 [Chinese] [\\\\xe6\\\\xb4\\\\xa8\\\\xe4\\\\xba\\\\x94\\\\xe7\\\\xb5\\\\x84] [Digital]\\'\"  C:\\\\Users\\\\ajbzx\\\\python_project\\\\files_ziper/output/\"1423816-[DATE] Doukyo Suru Neneki CH1~6 [Chinese] [洨五組] [Digital]\"'"
      ]
     },
     "execution_count": 45,
     "metadata": {},
     "output_type": "execute_result"
    },
    {
     "data": {
      "text/plain": [
       "'adb\\\\adb pull /mnt/sdcard/EhViewer/download/\"b\\'1423851-[ASa Project] Suki to Suki to de Sankaku Renai  Love Triangle Trouble [Decensored]\\'\"  C:\\\\Users\\\\ajbzx\\\\python_project\\\\files_ziper/output/\"1423851-[ASa Project] Suki to Suki to de Sankaku Renai  Love Triangle Trouble [Decensored]\"'"
      ]
     },
     "execution_count": 45,
     "metadata": {},
     "output_type": "execute_result"
    },
    {
     "data": {
      "text/plain": [
       "'adb\\\\adb pull /mnt/sdcard/EhViewer/download/\"b\\'1426314-[Suihei Sen] Bungo ni neko (COMIC HOTMILK 2019-07) [Chinese] [\\\\xe5\\\\x85\\\\x94\\\\xe5\\\\x8f\\\\xb8\\\\xe5\\\\xa7\\\\xac\\\\xe6\\\\xbc\\\\xa2\\\\xe5\\\\x8c\\\\x96\\\\xe7\\\\xb5\\\\x84] [Digital]\\'\"  C:\\\\Users\\\\ajbzx\\\\python_project\\\\files_ziper/output/\"1426314-[Suihei Sen] Bungo ni neko (COMIC HOTMILK 2019-07) [Chinese] [兔司姬漢化組] [Digital]\"'"
      ]
     },
     "execution_count": 45,
     "metadata": {},
     "output_type": "execute_result"
    },
    {
     "data": {
      "text/plain": [
       "'adb\\\\adb pull /mnt/sdcard/EhViewer/download/\"b\\'1428498-[Suzudama Renri] Milky Memory  \\\\xe4\\\\xb9\\\\xb3\\\\xe7\\\\x99\\\\xbd\\\\xe8\\\\x89\\\\xb2\\\\xe7\\\\x9a\\\\x84\\\\xe6\\\\xb7\\\\xab\\\\xe9\\\\x9d\\\\xa1\\\\xe8\\\\xa8\\\\x98\\\\xe6\\\\x86\\\\xb6 [Chinese]\\'\"  C:\\\\Users\\\\ajbzx\\\\python_project\\\\files_ziper/output/\"1428498-[Suzudama Renri] Milky Memory  乳白色的淫靡記憶 [Chinese]\"'"
      ]
     },
     "execution_count": 45,
     "metadata": {},
     "output_type": "execute_result"
    },
    {
     "data": {
      "text/plain": [
       "'adb\\\\adb pull /mnt/sdcard/EhViewer/download/\"b\\'1429590-[Inu] Hatsu Inu - Anfang Hund [Chinese] [Decensored]\\'\"  C:\\\\Users\\\\ajbzx\\\\python_project\\\\files_ziper/output/\"1429590-[Inu] Hatsu Inu - Anfang Hund [Chinese] [Decensored]\"'"
      ]
     },
     "execution_count": 45,
     "metadata": {},
     "output_type": "execute_result"
    },
    {
     "data": {
      "text/plain": [
       "'adb\\\\adb pull /mnt/sdcard/EhViewer/download/\"b\\'1429607-[Inu] Hatsu Inu 3 - Anfang Hund Drei [Chinese] [\\\\xe6\\\\x82\\\\xa0\\\\xe6\\\\x9c\\\\x88\\\\xe5\\\\xb7\\\\xa5\\\\xe6\\\\x88\\\\xbf] [Decensored]\\'\"  C:\\\\Users\\\\ajbzx\\\\python_project\\\\files_ziper/output/\"1429607-[Inu] Hatsu Inu 3 - Anfang Hund Drei [Chinese] [悠月工房] [Decensored]\"'"
      ]
     },
     "execution_count": 45,
     "metadata": {},
     "output_type": "execute_result"
    },
    {
     "data": {
      "text/plain": [
       "'adb\\\\adb pull /mnt/sdcard/EhViewer/download/\"b\\'1429608-[Inu] Hatsu Inu 2 - Anfang Hund Zwei [Chinese] [\\\\xe6\\\\x82\\\\xa0\\\\xe6\\\\x9c\\\\x88\\\\xe5\\\\xb7\\\\xa5\\\\xe6\\\\x88\\\\xbf] [Decensored]\\'\"  C:\\\\Users\\\\ajbzx\\\\python_project\\\\files_ziper/output/\"1429608-[Inu] Hatsu Inu 2 - Anfang Hund Zwei [Chinese] [悠月工房] [Decensored]\"'"
      ]
     },
     "execution_count": 45,
     "metadata": {},
     "output_type": "execute_result"
    },
    {
     "data": {
      "text/plain": [
       "'adb\\\\adb pull /mnt/sdcard/EhViewer/download/\"b\\'1431245-[Tomono Hiro] Tadashii Koubi no Susume  \\\\xe6\\\\xad\\\\xa3\\\\xe7\\\\xa2\\\\xba\\\\xe7\\\\x9a\\\\x84\\\\xe4\\\\xba\\\\xa4\\\\xe5\\\\xb0\\\\xbe\\\\xe6\\\\xb3\\\\x95\\\\xe6\\\\x8e\\\\xa8\\\\xe8\\\\x96\\\\xa6\\\\xe4\\\\xbd\\\\xa0 [Chinese]\\'\"  C:\\\\Users\\\\ajbzx\\\\python_project\\\\files_ziper/output/\"1431245-[Tomono Hiro] Tadashii Koubi no Susume  正確的交尾法推薦你 [Chinese]\"'"
      ]
     },
     "execution_count": 45,
     "metadata": {},
     "output_type": "execute_result"
    },
    {
     "data": {
      "text/plain": [
       "'adb\\\\adb pull /mnt/sdcard/EhViewer/download/\"b\\'1431989-[Fujimaru] Kyouka no Niwa (COMIC Kairakuten 2019-05) [Chinese] [\\\\xe6\\\\x9c\\\\x9f\\\\xe6\\\\x9c\\\\xab\\\\xe8\\\\x80\\\\x83\\\\xe8\\\\xa9\\\\xa6\\\\xe4\\\\xb8\\\\x8d\\\\xe6\\\\x83\\\\xb3\\\\xe5\\\\xbe\\\\xa9\\\\xe7\\\\xbf\\\\x92\\\\xe9\\\\x9d\\\\xa0\\\\xe8\\\\x91\\\\x97\\\\xe6\\\\x9c\\\\xac\\\\xe5\\\\xad\\\\x90\\\\xe6\\\\x91\\\\xb8\\\\xe9\\\\xad\\\\x9a\\\\xe7\\\\x9a\\\\x84\\\\xe5\\\\x80\\\\x8b\\\\xe4\\\\xba\\\\xba\\\\xe6\\\\xbc\\\\xa2\\\\xe5\\\\x8c\\\\x96] [Digital]\\'\"  C:\\\\Users\\\\ajbzx\\\\python_project\\\\files_ziper/output/\"1431989-[Fujimaru] Kyouka no Niwa (COMIC Kairakuten 2019-05) [Chinese] [期末考試不想復習靠著本子摸魚的個人漢化] [Digital]\"'"
      ]
     },
     "execution_count": 45,
     "metadata": {},
     "output_type": "execute_result"
    },
    {
     "data": {
      "text/plain": [
       "'adb\\\\adb pull /mnt/sdcard/EhViewer/download/\"b\\'1432930-[Rokkaku Yasosuke] Shinobu-chan no Sukusuku Nikki  \\\\xe5\\\\xb0\\\\x8f\\\\xe5\\\\xbf\\\\x8d\\\\xe5\\\\xa6\\\\xb9\\\\xe5\\\\xa6\\\\xb9\\\\xe7\\\\x9a\\\\x84\\\\xe6\\\\x88\\\\x90\\\\xe9\\\\x95\\\\xb7\\\\xe6\\\\x97\\\\xa5\\\\xe8\\\\xa8\\\\x98 (COMIC Shitsurakuten 2019-06) [Chinese] [\\\\xe6\\\\x88\\\\x91\\\\xe5\\\\xb0\\\\xbb\\\\xe5\\\\xb0\\\\xb1\\\\xe8\\\\xae\\\\x8a\\\\xe6\\\\x85\\\\x8b\\\\xe2\\\\x9c\\\\x95\\\\xe7\\\\x84\\\\xa1\\\\xe9\\\\x82\\\\xaa\\\\xe6\\\\xb0\\\\x97\\\\xe6\\\\xbc\\\\xa2\\\\xe5\\\\x8c\\\\x96\\\\xe7\\\\xb5\\\\x84] [Digital]\\'\"  C:\\\\Users\\\\ajbzx\\\\python_project\\\\files_ziper/output/\"1432930-[Rokkaku Yasosuke] Shinobu-chan no Sukusuku Nikki  小忍妹妹的成長日記 (COMIC Shitsurakuten 2019-06) [Chinese] [我尻就變態✕無邪気漢化組] [Digital]\"'"
      ]
     },
     "execution_count": 45,
     "metadata": {},
     "output_type": "execute_result"
    },
    {
     "data": {
      "text/plain": [
       "'adb\\\\adb pull /mnt/sdcard/EhViewer/download/\"b\\'1434583-[Kizuka Kazuki] Sakari Matsuri  \\\\xe7\\\\x99\\\\xbc\\\\xe6\\\\x83\\\\x85\\\\xe7\\\\x9a\\\\x84\\\\xe5\\\\xad\\\\xb8\\\\xe5\\\\x9c\\\\x92\\\\xe7\\\\xa5\\\\xad [Chinese]\\'\"  C:\\\\Users\\\\ajbzx\\\\python_project\\\\files_ziper/output/\"1434583-[Kizuka Kazuki] Sakari Matsuri  發情的學園祭 [Chinese]\"'"
      ]
     },
     "execution_count": 45,
     "metadata": {},
     "output_type": "execute_result"
    },
    {
     "data": {
      "text/plain": [
       "'adb\\\\adb pull /mnt/sdcard/EhViewer/download/\"b\\'1435309-[Shinobu Tanei] Imouto no Kiken na Anzenbi  \\\\xe7\\\\xb9\\\\xbc\\\\xe5\\\\xa6\\\\xb9\\\\xe7\\\\x9a\\\\x84\\\\xe5\\\\x8d\\\\xb1\\\\xe9\\\\x9a\\\\xaa\\\\xe7\\\\x9a\\\\x84\\\\xe5\\\\xae\\\\x89\\\\xe5\\\\x85\\\\xa8\\\\xe6\\\\x97\\\\xa5 [Chinese]\\'\"  C:\\\\Users\\\\ajbzx\\\\python_project\\\\files_ziper/output/\"1435309-[Shinobu Tanei] Imouto no Kiken na Anzenbi  繼妹的危險的安全日 [Chinese]\"'"
      ]
     },
     "execution_count": 45,
     "metadata": {},
     "output_type": "execute_result"
    },
    {
     "data": {
      "text/plain": [
       "'adb\\\\adb pull /mnt/sdcard/EhViewer/download/\"b\\'1435468-[Nasipasuta] Densha no Naka de  \\\\xe5\\\\x9c\\\\xa8\\\\xe9\\\\x9b\\\\xbb\\\\xe8\\\\xbb\\\\x8a\\\\xe4\\\\xb8\\\\x8a (COMIC ExE 18) [Chinese] [\\\\xe5\\\\x80\\\\x8b\\\\xe4\\\\xba\\\\xba\\\\xe7\\\\xbf\\\\xbb\\\\xe8\\\\xad\\\\xaf by \\\\xe9\\\\x87\\\\x80\\\\xe6\\\\xb3\\\\x89] [Digital]\\'\"  C:\\\\Users\\\\ajbzx\\\\python_project\\\\files_ziper/output/\"1435468-[Nasipasuta] Densha no Naka de  在電車上 (COMIC ExE 18) [Chinese] [個人翻譯 by 釀泉] [Digital]\"'"
      ]
     },
     "execution_count": 45,
     "metadata": {},
     "output_type": "execute_result"
    },
    {
     "data": {
      "text/plain": [
       "'adb\\\\adb pull /mnt/sdcard/EhViewer/download/\"b\\'1435699-[Kazakura] Hana Bira Otome  \\\\xe8\\\\x8a\\\\xb1\\\\xe5\\\\x94\\\\x87\\\\xe7\\\\x93\\\\xa3\\\\xe4\\\\xb9\\\\x99\\\\xe5\\\\xa5\\\\xb3 [chinese]\\'\"  C:\\\\Users\\\\ajbzx\\\\python_project\\\\files_ziper/output/\"1435699-[Kazakura] Hana Bira Otome  花唇瓣乙女 [chinese]\"'"
      ]
     },
     "execution_count": 45,
     "metadata": {},
     "output_type": "execute_result"
    },
    {
     "data": {
      "text/plain": [
       "'adb\\\\adb pull /mnt/sdcard/EhViewer/download/\"b\\'1435752-[Okara] Cat bite  \\\\xe8\\\\xa3\\\\x9d\\\\xe4\\\\xb9\\\\x96\\\\xe5\\\\xb7\\\\xa7\\\\xe5\\\\xa5\\\\xb3\\\\xe5\\\\xad\\\\xa9 [chinese]\\'\"  C:\\\\Users\\\\ajbzx\\\\python_project\\\\files_ziper/output/\"1435752-[Okara] Cat bite  裝乖巧女孩 [chinese]\"'"
      ]
     },
     "execution_count": 45,
     "metadata": {},
     "output_type": "execute_result"
    },
    {
     "data": {
      "text/plain": [
       "'adb\\\\adb pull /mnt/sdcard/EhViewer/download/\"b\\'1436505-[Ichinose Land] Fuwatoro H Land [Chinese]\\'\"  C:\\\\Users\\\\ajbzx\\\\python_project\\\\files_ziper/output/\"1436505-[Ichinose Land] Fuwatoro H Land [Chinese]\"'"
      ]
     },
     "execution_count": 45,
     "metadata": {},
     "output_type": "execute_result"
    },
    {
     "data": {
      "text/plain": [
       "'adb\\\\adb pull /mnt/sdcard/EhViewer/download/\"b\\'1437284-[Momoduki Suzu] Nametagari - I am crazy about you and will be bold.  \\\\xe6\\\\x83\\\\xb3\\\\xe8\\\\xa6\\\\x81\\\\xe8\\\\x88\\\\x94\\\\xe4\\\\xb8\\\\x8d\\\\xe5\\\\x81\\\\x9c [chinese]\\'\"  C:\\\\Users\\\\ajbzx\\\\python_project\\\\files_ziper/output/\"1437284-[Momoduki Suzu] Nametagari - I am crazy about you and will be bold.  想要舔不停 [chinese]\"'"
      ]
     },
     "execution_count": 45,
     "metadata": {},
     "output_type": "execute_result"
    },
    {
     "data": {
      "text/plain": [
       "'adb\\\\adb pull /mnt/sdcard/EhViewer/download/\"b\\'1437296-[Kenji] Karigogo ~Nikuyoku Shoujo~ 1-4 [Chinese] [Digital]\\'\"  C:\\\\Users\\\\ajbzx\\\\python_project\\\\files_ziper/output/\"1437296-[Kenji] Karigogo ~Nikuyoku Shoujo~ 1-4 [Chinese] [Digital]\"'"
      ]
     },
     "execution_count": 45,
     "metadata": {},
     "output_type": "execute_result"
    },
    {
     "data": {
      "text/plain": [
       "'adb\\\\adb pull /mnt/sdcard/EhViewer/download/\"b\\'1437360-[Tulip] Hajimete no Succubus no Sotsugyou Shiken (COMIC X-EROS #72) [Chinese] [\\\\xe7\\\\x84\\\\xa1\\\\xe9\\\\x82\\\\xaa\\\\xe6\\\\xb0\\\\x97\\\\xe6\\\\xbc\\\\xa2\\\\xe5\\\\x8c\\\\x96\\\\xe7\\\\xb5\\\\x84] [Digital]\\'\"  C:\\\\Users\\\\ajbzx\\\\python_project\\\\files_ziper/output/\"1437360-[Tulip] Hajimete no Succubus no Sotsugyou Shiken (COMIC X-EROS #72) [Chinese] [無邪気漢化組] [Digital]\"'"
      ]
     },
     "execution_count": 45,
     "metadata": {},
     "output_type": "execute_result"
    },
    {
     "data": {
      "text/plain": [
       "'adb\\\\adb pull /mnt/sdcard/EhViewer/download/\"b\\'1438040-[Herio] Sukoshi wa Ganbare! Meina-chan (COMIC ExE 19) [Chinese] [\\\\xe8\\\\xb6\\\\x85\\\\xe5\\\\x87\\\\xb9\\\\xe6\\\\xa3\\\\x92\\\\xe6\\\\xa3\\\\x92\\\\xe3\\\\x84\\\\x90\\\\xe3\\\\x84\\\\x90\\\\xe6\\\\xa3\\\\x92\\\\xe6\\\\xb1\\\\x81\\\\xe5\\\\x80\\\\x8b\\\\xe4\\\\xba\\\\xba\\\\xe7\\\\xbf\\\\xbb\\\\xe8\\\\xad\\\\xaf] [Digital]\\'\"  C:\\\\Users\\\\ajbzx\\\\python_project\\\\files_ziper/output/\"1438040-[Herio] Sukoshi wa Ganbare! Meina-chan (COMIC ExE 19) [Chinese] [超凹棒棒ㄐㄐ棒汁個人翻譯] [Digital]\"'"
      ]
     },
     "execution_count": 45,
     "metadata": {},
     "output_type": "execute_result"
    },
    {
     "data": {
      "text/plain": [
       "'adb\\\\adb pull /mnt/sdcard/EhViewer/download/\"b\\'1438139-[H9] Mechax Shiyo  \\\\xe7\\\\xbf\\\\xbb\\\\xe5\\\\xa4\\\\xa9\\\\xe8\\\\xa6\\\\x86\\\\xe5\\\\x9c\\\\xb0\\\\xe7\\\\x9a\\\\x84\\\\xe5\\\\xb9\\\\xb9\\\\xe5\\\\x90\\\\xa7 [Chinese]\\'\"  C:\\\\Users\\\\ajbzx\\\\python_project\\\\files_ziper/output/\"1438139-[H9] Mechax Shiyo  翻天覆地的幹吧 [Chinese]\"'"
      ]
     },
     "execution_count": 45,
     "metadata": {},
     "output_type": "execute_result"
    },
    {
     "data": {
      "text/plain": [
       "'adb\\\\adb pull /mnt/sdcard/EhViewer/download/\"b\\'1441167-[Izumiya Otoha] Hatsukoi Melty - Melty First Love  \\\\xe5\\\\x88\\\\x9d\\\\xe6\\\\x88\\\\x80\\\\xe7\\\\x94\\\\x9c\\\\xe7\\\\xbe\\\\x8e\\\\xe6\\\\xba\\\\xb6\\\\xe5\\\\x8c\\\\x96 [Chinese]\\'\"  C:\\\\Users\\\\ajbzx\\\\python_project\\\\files_ziper/output/\"1441167-[Izumiya Otoha] Hatsukoi Melty - Melty First Love  初戀甜美溶化 [Chinese]\"'"
      ]
     },
     "execution_count": 45,
     "metadata": {},
     "output_type": "execute_result"
    },
    {
     "data": {
      "text/plain": [
       "'adb\\\\adb pull /mnt/sdcard/EhViewer/download/\"b\\'1442303-[Kimirito]Ero Manga Hyogen Shi  \\\\xe6\\\\x88\\\\x90\\\\xe4\\\\xba\\\\xba\\\\xe6\\\\xbc\\\\xab\\\\xe7\\\\x95\\\\xab\\\\xe8\\\\xa1\\\\xa8\\\\xe7\\\\x8f\\\\xbe\\\\xe5\\\\x8f\\\\xb2[Chinese]\\'\"  C:\\\\Users\\\\ajbzx\\\\python_project\\\\files_ziper/output/\"1442303-[Kimirito]Ero Manga Hyogen Shi  成人漫畫表現史[Chinese]\"'"
      ]
     },
     "execution_count": 45,
     "metadata": {},
     "output_type": "execute_result"
    },
    {
     "data": {
      "text/plain": [
       "'adb\\\\adb pull /mnt/sdcard/EhViewer/download/\"b\\'1443315-[Herio] Toshoshitsu o Shimete kara (COMIC ExE 18) [Chinese] [\\\\xe4\\\\xbd\\\\xb3\\\\xe5\\\\xa5\\\\x88\\\\xe5\\\\x8a\\\\xa9\\\\xe6\\\\xb1\\\\x89\\\\xe5\\\\x8c\\\\x96\\\\xe7\\\\xbb\\\\x84] [Digital]\\'\"  C:\\\\Users\\\\ajbzx\\\\python_project\\\\files_ziper/output/\"1443315-[Herio] Toshoshitsu o Shimete kara (COMIC ExE 18) [Chinese] [佳奈助汉化组] [Digital]\"'"
      ]
     },
     "execution_count": 45,
     "metadata": {},
     "output_type": "execute_result"
    },
    {
     "data": {
      "text/plain": [
       "'adb\\\\adb pull /mnt/sdcard/EhViewer/download/\"b\\'1443628-[Shimapan (Tachibana Omina)] Isekai Harem Monogatari Soushuuhen 1 [Chinese]\\'\"  C:\\\\Users\\\\ajbzx\\\\python_project\\\\files_ziper/output/\"1443628-[Shimapan (Tachibana Omina)] Isekai Harem Monogatari Soushuuhen 1 [Chinese]\"'"
      ]
     },
     "execution_count": 45,
     "metadata": {},
     "output_type": "execute_result"
    },
    {
     "data": {
      "text/plain": [
       "'adb\\\\adb pull /mnt/sdcard/EhViewer/download/\"b\\'1444090-(C86) [MTSP (Jin)] \\\\xe6\\\\xa9\\\\x98\\\\xe3\\\\x81\\\\x95\\\\xe3\\\\x82\\\\x93\\\\xe5\\\\xae\\\\xb6\\\\xe3\\\\x83\\\\x8e\\\\xe7\\\\x94\\\\xb7\\\\xe6\\\\x80\\\\xa7\\\\xe4\\\\xba\\\\x8b\\\\xe6\\\\x83\\\\x85 \\\\xe3\\\\x81\\\\xbe\\\\xe3\\\\x81\\\\xa8\\\\xe3\\\\x82\\\\x81\\\\xe7\\\\x89\\\\x88 [\\\\xe4\\\\xb8\\\\xad\\\\xe5\\\\x9b\\\\xbd\\\\xe7\\\\xbf\\\\xbb\\\\xe8\\\\xa8\\\\xb3] [\\\\xe3\\\\x82\\\\xab\\\\xe3\\\\x83\\\\xa9\\\\xe3\\\\x83\\\\xbc\\\\xe5\\\\x8c\\\\x96] [\\\\xe7\\\\x84\\\\xa1\\\\xe4\\\\xbf\\\\xae\\\\xe6\\\\xad\\\\xa3]-(C86) [MTSP (Jin)] Tachibana-san-chi no Dansei Jijou Matome Ban [Chinese] [\\\\xe5\\\\xa4\\\\xa9\\\\xe6\\\\x9c\\\\x88NTR\\\\xe6\\\\xbc\\\\xa2\\\\xe5\\\\x8c\\\\x96\\\\xe7\\\\xb5\\\\x84x\\\\xe9\\\\x85\\\\x8d\\\\xe8\\\\x8f\\\\x9c\\\\xe7\\\\x84\\\\xa1\\\\xe4\\\\xbf\\\\xae\\\\xe6\\\\x94\\\\xb9\\\\xe5\\\\x9c\\\\x96] [Colorized] [Decensored]\\'\"  C:\\\\Users\\\\ajbzx\\\\python_project\\\\files_ziper/output/\"1444090-(C86) [MTSP (Jin)] 橘さん家ノ男性事情 まとめ版 [中国翻訳] [カラー化] [無修正]-(C86) [MTSP (Jin)] Tachibana-san-chi no Dansei Jijou Matome Ban [Chinese] [天月NTR漢化組x配菜無修改圖] [Colorized] [Decensored]\"'"
      ]
     },
     "execution_count": 45,
     "metadata": {},
     "output_type": "execute_result"
    },
    {
     "data": {
      "text/plain": [
       "'adb\\\\adb pull /mnt/sdcard/EhViewer/download/\"b\\'1444180-[Napata] Sukidarake [Chinese] [\\\\xe8\\\\x84\\\\xb8\\\\xe8\\\\x82\\\\xbf\\\\xe6\\\\xb1\\\\x89\\\\xe5\\\\x8c\\\\x96\\\\xe7\\\\xbb\\\\x84]\\'\"  C:\\\\Users\\\\ajbzx\\\\python_project\\\\files_ziper/output/\"1444180-[Napata] Sukidarake [Chinese] [脸肿汉化组]\"'"
      ]
     },
     "execution_count": 45,
     "metadata": {},
     "output_type": "execute_result"
    },
    {
     "data": {
      "text/plain": [
       "'adb\\\\adb pull /mnt/sdcard/EhViewer/download/\"b\\'1448836-[Tonnosuke] Keiren Love Piston - Onee-san wa Hentai Omocha  \\\\xe7\\\\x97\\\\x99\\\\xe6\\\\x94\\\\xa3\\\\xe6\\\\x84\\\\x9b\\\\xe6\\\\x85\\\\xbe\\\\xe6\\\\xb4\\\\xbb\\\\xe5\\\\xa1\\\\x9e\\\\xe9\\\\x81\\\\x8b\\\\xe5\\\\x8b\\\\x95 \\\\xe5\\\\xa4\\\\xa7\\\\xe5\\\\xa7\\\\x8a\\\\xe5\\\\xa7\\\\x8a\\\\xe5\\\\xa5\\\\xb9\\\\xe6\\\\x98\\\\xaf\\\\xe8\\\\xae\\\\x8a\\\\xe6\\\\x85\\\\x8b\\\\xe7\\\\x8e\\\\xa9\\\\xe5\\\\x85\\\\xb7 [Chinese]\\'\"  C:\\\\Users\\\\ajbzx\\\\python_project\\\\files_ziper/output/\"1448836-[Tonnosuke] Keiren Love Piston - Onee-san wa Hentai Omocha  痙攣愛慾活塞運動 大姊姊她是變態玩具 [Chinese]\"'"
      ]
     },
     "execution_count": 45,
     "metadata": {},
     "output_type": "execute_result"
    },
    {
     "data": {
      "text/plain": [
       "'adb\\\\adb pull /mnt/sdcard/EhViewer/download/\"b\\'1451460-Artist Galleries  Arhoangel\\'\"  C:\\\\Users\\\\ajbzx\\\\python_project\\\\files_ziper/output/\"1451460-Artist Galleries  Arhoangel\"'"
      ]
     },
     "execution_count": 45,
     "metadata": {},
     "output_type": "execute_result"
    },
    {
     "data": {
      "text/plain": [
       "'adb\\\\adb pull /mnt/sdcard/EhViewer/download/\"b\\'1451949-[Mikemono Yuu] Torokeru Gohoubi [Chinese] [\\\\xe7\\\\x84\\\\xa1\\\\xe9\\\\x82\\\\xaa\\\\xe6\\\\xb0\\\\x97\\\\xe6\\\\xbc\\\\xa2\\\\xe5\\\\x8c\\\\x96\\\\xe7\\\\xb5\\\\x84]\\'\"  C:\\\\Users\\\\ajbzx\\\\python_project\\\\files_ziper/output/\"1451949-[Mikemono Yuu] Torokeru Gohoubi [Chinese] [無邪気漢化組]\"'"
      ]
     },
     "execution_count": 45,
     "metadata": {},
     "output_type": "execute_result"
    },
    {
     "data": {
      "text/plain": [
       "'adb\\\\adb pull /mnt/sdcard/EhViewer/download/\"b\\'1455345-[Nekomata Naomi] Onedari Pussies [Chinese]\\'\"  C:\\\\Users\\\\ajbzx\\\\python_project\\\\files_ziper/output/\"1455345-[Nekomata Naomi] Onedari Pussies [Chinese]\"'"
      ]
     },
     "execution_count": 45,
     "metadata": {},
     "output_type": "execute_result"
    },
    {
     "data": {
      "text/plain": [
       "'adb\\\\adb pull /mnt/sdcard/EhViewer/download/\"b\\'1456935-[\\\\xe5\\\\xae\\\\x87\\\\xe5\\\\xa0\\\\xb4\\\\xe7\\\\xbe\\\\xa9\\\\xe8\\\\xa1\\\\x8c] \\\\xe3\\\\x83\\\\x8f\\\\xe3\\\\x83\\\\xac\\\\xe3\\\\x83\\\\xa0\\\\xe3\\\\x82\\\\xb9\\\\xe3\\\\x83\\\\x91\\\\xe3\\\\x82\\\\xa4\\\\xe3\\\\x83\\\\xa9\\\\xe3\\\\x83\\\\xab [chinese]\\'\"  C:\\\\Users\\\\ajbzx\\\\python_project\\\\files_ziper/output/\"1456935-[宇場義行] ハレムスパイラル [chinese]\"'"
      ]
     },
     "execution_count": 45,
     "metadata": {},
     "output_type": "execute_result"
    },
    {
     "data": {
      "text/plain": [
       "'adb\\\\adb pull /mnt/sdcard/EhViewer/download/\"b\\'1456937-[Shinozuka Yuuji] Hajimeteno Hitozuma [Chinese]\\'\"  C:\\\\Users\\\\ajbzx\\\\python_project\\\\files_ziper/output/\"1456937-[Shinozuka Yuuji] Hajimeteno Hitozuma [Chinese]\"'"
      ]
     },
     "execution_count": 45,
     "metadata": {},
     "output_type": "execute_result"
    },
    {
     "data": {
      "text/plain": [
       "'adb\\\\adb pull /mnt/sdcard/EhViewer/download/\"b\\'1457670-[Saicoro Chick (Hinasaki)] Houkago no Sasayaki [Chinese]\\'\"  C:\\\\Users\\\\ajbzx\\\\python_project\\\\files_ziper/output/\"1457670-[Saicoro Chick (Hinasaki)] Houkago no Sasayaki [Chinese]\"'"
      ]
     },
     "execution_count": 45,
     "metadata": {},
     "output_type": "execute_result"
    },
    {
     "data": {
      "text/plain": [
       "'adb\\\\adb pull /mnt/sdcard/EhViewer/download/\"b\\'1458033-[DATE] reincarnation ~Ubawareta Shoujo no Karada~ [Chinese] [\\\\xe7\\\\xaf\\\\x86\\\\xe5\\\\x84\\\\x80\\\\xe9\\\\x80\\\\x9a\\\\xe6\\\\x96\\\\x87\\\\xe6\\\\x9b\\\\xb8\\\\xe5\\\\x9d\\\\x8a\\\\xe6\\\\xbc\\\\xa2\\\\xe5\\\\x8c\\\\x96]\\'\"  C:\\\\Users\\\\ajbzx\\\\python_project\\\\files_ziper/output/\"1458033-[DATE] reincarnation ~Ubawareta Shoujo no Karada~ [Chinese] [篆儀通文書坊漢化]\"'"
      ]
     },
     "execution_count": 45,
     "metadata": {},
     "output_type": "execute_result"
    },
    {
     "data": {
      "text/plain": [
       "'adb\\\\adb pull /mnt/sdcard/EhViewer/download/\"b\\'1458155-[Ikuhana Niro] Ikujitsu [Chinese]\\'\"  C:\\\\Users\\\\ajbzx\\\\python_project\\\\files_ziper/output/\"1458155-[Ikuhana Niro] Ikujitsu [Chinese]\"'"
      ]
     },
     "execution_count": 45,
     "metadata": {},
     "output_type": "execute_result"
    },
    {
     "data": {
      "text/plain": [
       "'adb\\\\adb pull /mnt/sdcard/EhViewer/download/\"b\"1459302-[Kisen] Seijo-tachi no Komoriuta - Heroines\\' Lullaby [Chinese] [\\\\xe5\\\\x85\\\\x94\\\\xe5\\\\x8f\\\\xb8\\\\xe5\\\\xa7\\\\xacX\\\\xe4\\\\xb8\\\\x80\\\\xe5\\\\x8c\\\\x99\\\\xe5\\\\x92\\\\x96\\\\xe5\\\\x95\\\\xa1\\\\xe8\\\\xb1\\\\x86\\\\xe8\\\\x81\\\\xaf\\\\xe5\\\\x90\\\\x88\\\\xe6\\\\xbc\\\\xa2\\\\xe5\\\\x8c\\\\x96]\"\"  C:\\\\Users\\\\ajbzx\\\\python_project\\\\files_ziper/output/\"1459302-[Kisen] Seijo-tachi no Komoriuta - Heroines\\' Lullaby [Chinese] [兔司姬X一匙咖啡豆聯合漢化]\"'"
      ]
     },
     "execution_count": 45,
     "metadata": {},
     "output_type": "execute_result"
    },
    {
     "data": {
      "text/plain": [
       "'adb\\\\adb pull /mnt/sdcard/EhViewer/download/\"b\\'1459924-[Tsukimoto Kizuki] Sex no Yoshuu Shimasen ka ~Seikou no Jitsugi Shiken ga Dounyuu Sareta Shakai~ Ch. 1 (COMIC Ananga Ranga Vol. 49) [Chinese] [\\\\xe7\\\\x84\\\\xa1\\\\xe9\\\\x82\\\\xaa\\\\xe6\\\\xb0\\\\x97\\\\xe6\\\\xbc\\\\xa2\\\\xe5\\\\x8c\\\\x96\\\\xe7\\\\xb5\\\\x84]\\'\"  C:\\\\Users\\\\ajbzx\\\\python_project\\\\files_ziper/output/\"1459924-[Tsukimoto Kizuki] Sex no Yoshuu Shimasen ka ~Seikou no Jitsugi Shiken ga Dounyuu Sareta Shakai~ Ch. 1 (COMIC Ananga Ranga Vol. 49) [Chinese] [無邪気漢化組]\"'"
      ]
     },
     "execution_count": 45,
     "metadata": {},
     "output_type": "execute_result"
    },
    {
     "data": {
      "text/plain": [
       "'adb\\\\adb pull /mnt/sdcard/EhViewer/download/\"b\\'1462456-[Seacoxx] Zombie no Afureta Sekai de Ore Dake ga Osowarenai vol.2  I Walk Among Zombies Vol. 2 [Decensored]\\'\"  C:\\\\Users\\\\ajbzx\\\\python_project\\\\files_ziper/output/\"1462456-[Seacoxx] Zombie no Afureta Sekai de Ore Dake ga Osowarenai vol.2  I Walk Among Zombies Vol. 2 [Decensored]\"'"
      ]
     },
     "execution_count": 45,
     "metadata": {},
     "output_type": "execute_result"
    },
    {
     "data": {
      "text/plain": [
       "'adb\\\\adb pull /mnt/sdcard/EhViewer/download/\"b\\'1462635-[Meme50] Limit Break [Chinese Translated]\\'\"  C:\\\\Users\\\\ajbzx\\\\python_project\\\\files_ziper/output/\"1462635-[Meme50] Limit Break [Chinese Translated]\"'"
      ]
     },
     "execution_count": 45,
     "metadata": {},
     "output_type": "execute_result"
    },
    {
     "data": {
      "text/plain": [
       "'adb\\\\adb pull /mnt/sdcard/EhViewer/download/\"b\\'1462653-[Shiwasu no Okina] Ero Pippi  \\\\xe6\\\\x85\\\\xbe\\\\xe6\\\\x83\\\\x85\\\\xe2\\\\x99\\\\xa1\\\\xe9\\\\x9d\\\\x92\\\\xe6\\\\x98\\\\xa5 [Chinese] [\\\\xe6\\\\x9c\\\\xaa\\\\xe4\\\\xbe\\\\x86\\\\xe6\\\\x95\\\\xb8\\\\xe4\\\\xbd\\\\x8d\\\\xe4\\\\xb8\\\\xad\\\\xe6\\\\x96\\\\x87] [Digital]\\'\"  C:\\\\Users\\\\ajbzx\\\\python_project\\\\files_ziper/output/\"1462653-[Shiwasu no Okina] Ero Pippi  慾情♡青春 [Chinese] [未來數位中文] [Digital]\"'"
      ]
     },
     "execution_count": 45,
     "metadata": {},
     "output_type": "execute_result"
    },
    {
     "data": {
      "text/plain": [
       "'adb\\\\adb pull /mnt/sdcard/EhViewer/download/\"b\\'1463665-(C96) [Anmitsuyomogitei (Michiking)] ANMITSU TOUHOU THE AFTER Vol.2 (Touhou Project) [Chinese] [CE\\\\xe5\\\\xae\\\\xb6\\\\xe6\\\\x97\\\\x8f\\\\xe7\\\\xa4\\\\xbe\\\\xc3\\\\x97\\\\xe7\\\\x84\\\\xa1\\\\xe9\\\\x82\\\\xaa\\\\xe6\\\\xb0\\\\x97]\\'\"  C:\\\\Users\\\\ajbzx\\\\python_project\\\\files_ziper/output/\"1463665-(C96) [Anmitsuyomogitei (Michiking)] ANMITSU TOUHOU THE AFTER Vol.2 (Touhou Project) [Chinese] [CE家族社×無邪気]\"'"
      ]
     },
     "execution_count": 45,
     "metadata": {},
     "output_type": "execute_result"
    },
    {
     "data": {
      "text/plain": [
       "'adb\\\\adb pull /mnt/sdcard/EhViewer/download/\"b\\'1466070-[Yanyo] Love Sugi! [Digital] [Decensored]\\'\"  C:\\\\Users\\\\ajbzx\\\\python_project\\\\files_ziper/output/\"1466070-[Yanyo] Love Sugi! [Digital] [Decensored]\"'"
      ]
     },
     "execution_count": 45,
     "metadata": {},
     "output_type": "execute_result"
    },
    {
     "data": {
      "text/plain": [
       "'adb\\\\adb pull /mnt/sdcard/EhViewer/download/\"b\\'1467027-[doumou] Koi Yagate Midara - Nasty after Love. [Chinese] [\\\\xe7\\\\xaf\\\\x86\\\\xe5\\\\x84\\\\x80\\\\xe9\\\\x80\\\\x9a\\\\xe6\\\\x96\\\\x87\\\\xe6\\\\x9b\\\\xb8\\\\xe5\\\\x9d\\\\x8a\\\\xe6\\\\xbc\\\\xa2\\\\xe5\\\\x8c\\\\x96]\\'\"  C:\\\\Users\\\\ajbzx\\\\python_project\\\\files_ziper/output/\"1467027-[doumou] Koi Yagate Midara - Nasty after Love. [Chinese] [篆儀通文書坊漢化]\"'"
      ]
     },
     "execution_count": 45,
     "metadata": {},
     "output_type": "execute_result"
    },
    {
     "data": {
      "text/plain": [
       "'adb\\\\adb pull /mnt/sdcard/EhViewer/download/\"b\\'1467293-[A-10] Load of Trash Kanzenban [Chinese] [\\\\xe6\\\\xb2\\\\x92\\\\xe6\\\\x9c\\\\x89\\\\xe6\\\\xbc\\\\xa2\\\\xe5\\\\x8c\\\\x96]\\'\"  C:\\\\Users\\\\ajbzx\\\\python_project\\\\files_ziper/output/\"1467293-[A-10] Load of Trash Kanzenban [Chinese] [沒有漢化]\"'"
      ]
     },
     "execution_count": 45,
     "metadata": {},
     "output_type": "execute_result"
    },
    {
     "data": {
      "text/plain": [
       "'adb\\\\adb pull /mnt/sdcard/EhViewer/download/\"b\\'1467340-[mon-petit] Love & Libido - Kanojo-tachi no Seijijou [chinese]\\'\"  C:\\\\Users\\\\ajbzx\\\\python_project\\\\files_ziper/output/\"1467340-[mon-petit] Love & Libido - Kanojo-tachi no Seijijou [chinese]\"'"
      ]
     },
     "execution_count": 45,
     "metadata": {},
     "output_type": "execute_result"
    },
    {
     "data": {
      "text/plain": [
       "'adb\\\\adb pull /mnt/sdcard/EhViewer/download/\"b\\'1470915-[Yamamoto Yammy] Nichijou Bitch Seitai Kansatsu [Chinese] [\\\\xe7\\\\x84\\\\xa1\\\\xe9\\\\x82\\\\xaa\\\\xe6\\\\xb0\\\\x97\\\\xe6\\\\xbc\\\\xa2\\\\xe5\\\\x8c\\\\x96\\\\xe7\\\\xb5\\\\x84]\\'\"  C:\\\\Users\\\\ajbzx\\\\python_project\\\\files_ziper/output/\"1470915-[Yamamoto Yammy] Nichijou Bitch Seitai Kansatsu [Chinese] [無邪気漢化組]\"'"
      ]
     },
     "execution_count": 45,
     "metadata": {},
     "output_type": "execute_result"
    },
    {
     "data": {
      "text/plain": [
       "'adb\\\\adb pull /mnt/sdcard/EhViewer/download/\"b\\'1474855-[DMM.com] Unitia\\'\"  C:\\\\Users\\\\ajbzx\\\\python_project\\\\files_ziper/output/\"1474855-[DMM.com] Unitia\"'"
      ]
     },
     "execution_count": 45,
     "metadata": {},
     "output_type": "execute_result"
    },
    {
     "data": {
      "text/plain": [
       "'adb\\\\adb pull /mnt/sdcard/EhViewer/download/\"b\\'1481159-[Itsutsuse] Puchupuri Enkeki! (\\\\xe3\\\\x82\\\\xb3\\\\xe3\\\\x83\\\\x9f\\\\xe3\\\\x83\\\\x83\\\\xe3\\\\x82\\\\xaf\\\\xe3\\\\x82\\\\xbc\\\\xe3\\\\x83\\\\xad\\\\xe3\\\\x82\\\\xb9 #78) [\\\\xe7\\\\x84\\\\xa1\\\\xe9\\\\x82\\\\xaa\\\\xe6\\\\xb0\\\\x97\\\\xe6\\\\xbc\\\\xa2\\\\xe5\\\\x8c\\\\x96\\\\xe7\\\\xb5\\\\x84][MJK-19-Z1662][\\\\xe7\\\\x84\\\\xa1\\\\xe4\\\\xbf\\\\xae\\\\xe6\\\\xad\\\\xa3]\\'\"  C:\\\\Users\\\\ajbzx\\\\python_project\\\\files_ziper/output/\"1481159-[Itsutsuse] Puchupuri Enkeki! (コミックゼロス #78) [無邪気漢化組][MJK-19-Z1662][無修正]\"'"
      ]
     },
     "execution_count": 45,
     "metadata": {},
     "output_type": "execute_result"
    },
    {
     "data": {
      "text/plain": [
       "'adb\\\\adb pull /mnt/sdcard/EhViewer/download/\"b\\'1481241-[Kirihara You] Motto Meshimase  \\\\xe6\\\\x88\\\\x91\\\\xe5\\\\x80\\\\x91\\\\xe5\\\\x86\\\\x8d\\\\xe5\\\\xa4\\\\x9a\\\\xe5\\\\x81\\\\x9a\\\\xe5\\\\xb9\\\\xbe\\\\xe6\\\\xac\\\\xa1 [Chinese]\\'\"  C:\\\\Users\\\\ajbzx\\\\python_project\\\\files_ziper/output/\"1481241-[Kirihara You] Motto Meshimase  我們再多做幾次 [Chinese]\"'"
      ]
     },
     "execution_count": 45,
     "metadata": {},
     "output_type": "execute_result"
    },
    {
     "data": {
      "text/plain": [
       "'adb\\\\adb pull /mnt/sdcard/EhViewer/download/\"b\\'1481768-[Ikeshita Maue] Choroane Lovers  \\\\xe8\\\\xbc\\\\x95\\\\xe6\\\\xb5\\\\xae\\\\xe6\\\\xb7\\\\xab\\\\xe5\\\\xa7\\\\x8a\\\\xe9\\\\xa8\\\\xb7\\\\xe6\\\\xb5\\\\xaa\\\\xe6\\\\x84\\\\x9b\\\\xe4\\\\xba\\\\xba\\\\xe5\\\\x80\\\\x91 [Chinese]\\'\"  C:\\\\Users\\\\ajbzx\\\\python_project\\\\files_ziper/output/\"1481768-[Ikeshita Maue] Choroane Lovers  輕浮淫姊騷浪愛人們 [Chinese]\"'"
      ]
     },
     "execution_count": 45,
     "metadata": {},
     "output_type": "execute_result"
    },
    {
     "data": {
      "text/plain": [
       "'adb\\\\adb pull /mnt/sdcard/EhViewer/download/\"b\\'1483302-[Iwasaki Yuuki] Etsuran Chuui [Chinese]\\'\"  C:\\\\Users\\\\ajbzx\\\\python_project\\\\files_ziper/output/\"1483302-[Iwasaki Yuuki] Etsuran Chuui [Chinese]\"'"
      ]
     },
     "execution_count": 45,
     "metadata": {},
     "output_type": "execute_result"
    },
    {
     "data": {
      "text/plain": [
       "'adb\\\\adb pull /mnt/sdcard/EhViewer/download/\"b\\'1485286-[Tanaka Naburu] Seieki Dorobou [chinese]\\'\"  C:\\\\Users\\\\ajbzx\\\\python_project\\\\files_ziper/output/\"1485286-[Tanaka Naburu] Seieki Dorobou [chinese]\"'"
      ]
     },
     "execution_count": 45,
     "metadata": {},
     "output_type": "execute_result"
    },
    {
     "data": {
      "text/plain": [
       "'adb\\\\adb pull /mnt/sdcard/EhViewer/download/\"b\\'1486271-[Key] Hime Hajime (COMIC Kairakuten 2019-09) [Chinese] [\\\\xe5\\\\x9c\\\\x8b\\\\xe5\\\\xae\\\\xb6\\\\xe6\\\\xa9\\\\x9f\\\\xe5\\\\x99\\\\xa8\\\\xe9\\\\x80\\\\xbc\\\\xe6\\\\x88\\\\x91\\\\xe5\\\\x80\\\\x8b\\\\xe4\\\\xba\\\\xba\\\\xe7\\\\xbf\\\\xbb\\\\xe8\\\\xad\\\\xaf] [Digital]\\'\"  C:\\\\Users\\\\ajbzx\\\\python_project\\\\files_ziper/output/\"1486271-[Key] Hime Hajime (COMIC Kairakuten 2019-09) [Chinese] [國家機器逼我個人翻譯] [Digital]\"'"
      ]
     },
     "execution_count": 45,
     "metadata": {},
     "output_type": "execute_result"
    },
    {
     "data": {
      "text/plain": [
       "'adb\\\\adb pull /mnt/sdcard/EhViewer/download/\"b\\'1487213-[Thomas] Puffy Fragrance [chinese]\\'\"  C:\\\\Users\\\\ajbzx\\\\python_project\\\\files_ziper/output/\"1487213-[Thomas] Puffy Fragrance [chinese]\"'"
      ]
     },
     "execution_count": 45,
     "metadata": {},
     "output_type": "execute_result"
    },
    {
     "data": {
      "text/plain": [
       "'adb\\\\adb pull /mnt/sdcard/EhViewer/download/\"b\\'1487814-[Asamine Tel] Onechan Zanmai! (COMIC BAVEL 2019-08) [Chinese] [\\\\xe4\\\\xbd\\\\xb3\\\\xe5\\\\xa5\\\\x88\\\\xe5\\\\x8a\\\\xa9\\\\xe6\\\\xb1\\\\x89\\\\xe5\\\\x8c\\\\x96\\\\xe7\\\\xbb\\\\x84] [Digital]\\'\"  C:\\\\Users\\\\ajbzx\\\\python_project\\\\files_ziper/output/\"1487814-[Asamine Tel] Onechan Zanmai! (COMIC BAVEL 2019-08) [Chinese] [佳奈助汉化组] [Digital]\"'"
      ]
     },
     "execution_count": 45,
     "metadata": {},
     "output_type": "execute_result"
    },
    {
     "data": {
      "text/plain": [
       "'adb\\\\adb pull /mnt/sdcard/EhViewer/download/\"b\\'1491761-[DATE] Doukyo Suru Neneki CH1~7 [Chinese] [\\\\xe6\\\\xb4\\\\xa8\\\\xe4\\\\xba\\\\x94\\\\xe7\\\\xb5\\\\x84] [Digital]\\'\"  C:\\\\Users\\\\ajbzx\\\\python_project\\\\files_ziper/output/\"1491761-[DATE] Doukyo Suru Neneki CH1~7 [Chinese] [洨五組] [Digital]\"'"
      ]
     },
     "execution_count": 45,
     "metadata": {},
     "output_type": "execute_result"
    },
    {
     "data": {
      "text/plain": [
       "'adb\\\\adb pull /mnt/sdcard/EhViewer/download/\"b\\'1493013-[Wakamesan] Saretagari [Chinese]\\'\"  C:\\\\Users\\\\ajbzx\\\\python_project\\\\files_ziper/output/\"1493013-[Wakamesan] Saretagari [Chinese]\"'"
      ]
     },
     "execution_count": 45,
     "metadata": {},
     "output_type": "execute_result"
    },
    {
     "data": {
      "text/plain": [
       "'adb\\\\adb pull /mnt/sdcard/EhViewer/download/\"b\\'1493748-[Shindou] Ojou-sama to Maid no Midara na Seikatsu [Chinese] [\\\\xe6\\\\x97\\\\xa0\\\\xe6\\\\xaf\\\\x92\\\\xe6\\\\xb1\\\\x89\\\\xe5\\\\x8c\\\\x96\\\\xe7\\\\xbb\\\\x84]\\'\"  C:\\\\Users\\\\ajbzx\\\\python_project\\\\files_ziper/output/\"1493748-[Shindou] Ojou-sama to Maid no Midara na Seikatsu [Chinese] [无毒汉化组]\"'"
      ]
     },
     "execution_count": 45,
     "metadata": {},
     "output_type": "execute_result"
    },
    {
     "data": {
      "text/plain": [
       "'adb\\\\adb pull /mnt/sdcard/EhViewer/download/\"b\\'1497309-[Miyabi] Iromeki Dasu Sekai [Chinese] [\\\\xe7\\\\x84\\\\xa1\\\\xe9\\\\x82\\\\xaa\\\\xe6\\\\xb0\\\\x97\\\\xe6\\\\xbc\\\\xa2\\\\xe5\\\\x8c\\\\x96\\\\xe7\\\\xb5\\\\x84]\\'\"  C:\\\\Users\\\\ajbzx\\\\python_project\\\\files_ziper/output/\"1497309-[Miyabi] Iromeki Dasu Sekai [Chinese] [無邪気漢化組]\"'"
      ]
     },
     "execution_count": 45,
     "metadata": {},
     "output_type": "execute_result"
    },
    {
     "data": {
      "text/plain": [
       "'adb\\\\adb pull /mnt/sdcard/EhViewer/download/\"b\\'1498155-[Henkuma] Libido [chinese]\\'\"  C:\\\\Users\\\\ajbzx\\\\python_project\\\\files_ziper/output/\"1498155-[Henkuma] Libido [chinese]\"'"
      ]
     },
     "execution_count": 45,
     "metadata": {},
     "output_type": "execute_result"
    },
    {
     "data": {
      "text/plain": [
       "'adb\\\\adb pull /mnt/sdcard/EhViewer/download/\"b\"1498684-[Okumoto Yuuta] Hamechichi! - Let\\'s Make Love Oppai! [Chinese]\"\"  C:\\\\Users\\\\ajbzx\\\\python_project\\\\files_ziper/output/\"1498684-[Okumoto Yuuta] Hamechichi! - Let\\'s Make Love Oppai! [Chinese]\"'"
      ]
     },
     "execution_count": 45,
     "metadata": {},
     "output_type": "execute_result"
    },
    {
     "data": {
      "text/plain": [
       "'adb\\\\adb pull /mnt/sdcard/EhViewer/download/\"b\\'1499965-[\\\\xe9\\\\xb3\\\\xb3\\\\xe3\\\\x81\\\\xbe\\\\xe3\\\\x81\\\\xb2\\\\xe3\\\\x82\\\\x8d] \\\\xe5\\\\x83\\\\x95\\\\xe3\\\\x81\\\\xae\\\\xe7\\\\x95\\\\xb0\\\\xe4\\\\xb8\\\\x96\\\\xe7\\\\x95\\\\x8c\\\\xe3\\\\x83\\\\x8f\\\\xe3\\\\x83\\\\xbc\\\\xe3\\\\x83\\\\xac\\\\xe3\\\\x83\\\\xa0 \\\\xe7\\\\xb7\\\\x8f\\\\xe9\\\\x9b\\\\x86\\\\xe7\\\\xb7\\\\xa8 1 [chinese]\\'\"  C:\\\\Users\\\\ajbzx\\\\python_project\\\\files_ziper/output/\"1499965-[鳳まひろ] 僕の異世界ハーレム 総集編 1 [chinese]\"'"
      ]
     },
     "execution_count": 45,
     "metadata": {},
     "output_type": "execute_result"
    },
    {
     "data": {
      "text/plain": [
       "'adb\\\\adb pull /mnt/sdcard/EhViewer/download/\"b\\'1500147-[Katsurai Yoshiaki] Amatsuka Gakuen no Ryoukan Seikatsu Ch.1-3 [Chinese]\\'\"  C:\\\\Users\\\\ajbzx\\\\python_project\\\\files_ziper/output/\"1500147-[Katsurai Yoshiaki] Amatsuka Gakuen no Ryoukan Seikatsu Ch.1-3 [Chinese]\"'"
      ]
     },
     "execution_count": 45,
     "metadata": {},
     "output_type": "execute_result"
    },
    {
     "data": {
      "text/plain": [
       "'adb\\\\adb pull /mnt/sdcard/EhViewer/download/\"b\\'1501175-[Booch] Ultra Love Love Aishiteru!! [Chinese] [\\\\xe7\\\\xaf\\\\x86\\\\xe5\\\\x84\\\\x80\\\\xe9\\\\x80\\\\x9a\\\\xe6\\\\x96\\\\x87\\\\xe6\\\\x9b\\\\xb8\\\\xe5\\\\x9d\\\\x8a\\\\xe6\\\\xbc\\\\xa2\\\\xe5\\\\x8c\\\\x96]\\'\"  C:\\\\Users\\\\ajbzx\\\\python_project\\\\files_ziper/output/\"1501175-[Booch] Ultra Love Love Aishiteru!! [Chinese] [篆儀通文書坊漢化]\"'"
      ]
     },
     "execution_count": 45,
     "metadata": {},
     "output_type": "execute_result"
    },
    {
     "data": {
      "text/plain": [
       "'adb\\\\adb pull /mnt/sdcard/EhViewer/download/\"b\\'1501609-[Pei] Hajirai Honey  \\\\xe7\\\\xbe\\\\x9e\\\\xe7\\\\xad\\\\x94\\\\xe7\\\\xad\\\\x94\\\\xe7\\\\x9a\\\\x84\\\\xe5\\\\xb0\\\\x8f\\\\xe7\\\\x99\\\\xbd\\\\xe5\\\\x85\\\\x94 [Chinese]\\'\"  C:\\\\Users\\\\ajbzx\\\\python_project\\\\files_ziper/output/\"1501609-[Pei] Hajirai Honey  羞答答的小白兔 [Chinese]\"'"
      ]
     },
     "execution_count": 45,
     "metadata": {},
     "output_type": "execute_result"
    },
    {
     "data": {
      "text/plain": [
       "'adb\\\\adb pull /mnt/sdcard/EhViewer/download/\"b\\'1503626-[Whirlpool] Neko-nin exHeart 3 [Decensored]\\'\"  C:\\\\Users\\\\ajbzx\\\\python_project\\\\files_ziper/output/\"1503626-[Whirlpool] Neko-nin exHeart 3 [Decensored]\"'"
      ]
     },
     "execution_count": 45,
     "metadata": {},
     "output_type": "execute_result"
    },
    {
     "data": {
      "text/plain": [
       "'adb\\\\adb pull /mnt/sdcard/EhViewer/download/\"b\\'1504276-[Yagami Shuuichi] Kanrichuu no Sore o Shibatte Agetai  \\\\xe7\\\\xae\\\\xa1\\\\xe7\\\\x90\\\\x86\\\\xe4\\\\xb8\\\\xad\\\\xe7\\\\x9a\\\\x84\\\\xe9\\\\x82\\\\xa3\\\\xe6\\\\xa0\\\\xb9\\\\xe6\\\\x83\\\\xb3\\\\xe5\\\\xb9\\\\xab\\\\xe4\\\\xbd\\\\xa0\\\\xe7\\\\xb7\\\\x8a\\\\xe7\\\\xb7\\\\x8a\\\\xe7\\\\xb6\\\\x91\\\\xe7\\\\xb6\\\\x81\\\\xe4\\\\xbd\\\\x8f [Chinese]\\'\"  C:\\\\Users\\\\ajbzx\\\\python_project\\\\files_ziper/output/\"1504276-[Yagami Shuuichi] Kanrichuu no Sore o Shibatte Agetai  管理中的那根想幫你緊緊綑綁住 [Chinese]\"'"
      ]
     },
     "execution_count": 45,
     "metadata": {},
     "output_type": "execute_result"
    },
    {
     "data": {
      "text/plain": [
       "'adb\\\\adb pull /mnt/sdcard/EhViewer/download/\"b\\'1504425-[Yokoshima Nikki] Yokoshima Musume\\'\"  C:\\\\Users\\\\ajbzx\\\\python_project\\\\files_ziper/output/\"1504425-[Yokoshima Nikki] Yokoshima Musume\"'"
      ]
     },
     "execution_count": 45,
     "metadata": {},
     "output_type": "execute_result"
    },
    {
     "data": {
      "text/plain": [
       "'adb\\\\adb pull /mnt/sdcard/EhViewer/download/\"b\\'1504904-[\\\\xe7\\\\xbb\\\\x85\\\\xe5\\\\xa3\\\\xab\\\\xe4\\\\xbb\\\\x93\\\\xe5\\\\xba\\\\x93\\\\xe6\\\\xb1\\\\x89\\\\xe5\\\\x8c\\\\x96] [\\\\xe3\\\\x82\\\\x82\\\\xe3\\\\x81\\\\x98\\\\xe3\\\\x82\\\\x83\\\\xe3\\\\x82\\\\x8a\\\\xe3\\\\x82\\\\x93] 1\\\\xe5\\\\x9b\\\\x9e\\\\xe3\\\\x81\\\\xa0\\\\xe3\\\\x81\\\\x91 (COMIC\\\\xe5\\\\xbf\\\\xab\\\\xe6\\\\xa5\\\\xbd\\\\xe5\\\\xa4\\\\xa9 2018\\\\xe5\\\\xb9\\\\xb48\\\\xe6\\\\x9c\\\\x88\\\\xe5\\\\x8f\\\\xb7) [\\\\xe7\\\\x84\\\\xa1\\\\xe4\\\\xbf\\\\xae\\\\xe6\\\\xad\\\\xa3]\\'\"  C:\\\\Users\\\\ajbzx\\\\python_project\\\\files_ziper/output/\"1504904-[绅士仓库汉化] [もじゃりん] 1回だけ (COMIC快楽天 2018年8月号) [無修正]\"'"
      ]
     },
     "execution_count": 45,
     "metadata": {},
     "output_type": "execute_result"
    },
    {
     "data": {
      "text/plain": [
       "'adb\\\\adb pull /mnt/sdcard/EhViewer/download/\"b\\'1505690-[Akino Sora] Sleep Learning -Zenpen- (COMIC X-EROS 79) [Chinese] [\\\\xe7\\\\x84\\\\xa1\\\\xe9\\\\x82\\\\xaa\\\\xe6\\\\xb0\\\\x97\\\\xe6\\\\xbc\\\\xa2\\\\xe5\\\\x8c\\\\x96\\\\xe7\\\\xb5\\\\x84] [Digital]\\'\"  C:\\\\Users\\\\ajbzx\\\\python_project\\\\files_ziper/output/\"1505690-[Akino Sora] Sleep Learning -Zenpen- (COMIC X-EROS 79) [Chinese] [無邪気漢化組] [Digital]\"'"
      ]
     },
     "execution_count": 45,
     "metadata": {},
     "output_type": "execute_result"
    },
    {
     "data": {
      "text/plain": [
       "'adb\\\\adb pull /mnt/sdcard/EhViewer/download/\"b\\'1505699-[Akino Sora] Sleep Learning -Kouhen- (COMIC X-EROS 80) [Chinese] [\\\\xe7\\\\x84\\\\xa1\\\\xe9\\\\x82\\\\xaa\\\\xe6\\\\xb0\\\\x97\\\\xe6\\\\xbc\\\\xa2\\\\xe5\\\\x8c\\\\x96\\\\xe7\\\\xb5\\\\x84] [Digital]\\'\"  C:\\\\Users\\\\ajbzx\\\\python_project\\\\files_ziper/output/\"1505699-[Akino Sora] Sleep Learning -Kouhen- (COMIC X-EROS 80) [Chinese] [無邪気漢化組] [Digital]\"'"
      ]
     },
     "execution_count": 45,
     "metadata": {},
     "output_type": "execute_result"
    },
    {
     "data": {
      "text/plain": [
       "'adb\\\\adb pull /mnt/sdcard/EhViewer/download/\"b\\'1506396-[Jorori] Kimi ga Suki\\\\xe3\\\\x80\\\\x82 \\\\xe5\\\\xa5\\\\xbd\\\\xe5\\\\x96\\\\x9c\\\\xe6\\\\xad\\\\xa1\\\\xe4\\\\xbd\\\\xa0\\\\xe3\\\\x80\\\\x82[Chinese]\\'\"  C:\\\\Users\\\\ajbzx\\\\python_project\\\\files_ziper/output/\"1506396-[Jorori] Kimi ga Suki。 好喜歡你。[Chinese]\"'"
      ]
     },
     "execution_count": 45,
     "metadata": {},
     "output_type": "execute_result"
    },
    {
     "data": {
      "text/plain": [
       "'adb\\\\adb pull /mnt/sdcard/EhViewer/download/\"b\\'1508143-[Barlun] Majime de Megane na Oppai-tachi  \\\\xe5\\\\xbe\\\\x88\\\\xe6\\\\xad\\\\xa3\\\\xe7\\\\xb6\\\\x93\\\\xe5\\\\x8f\\\\x88\\\\xe6\\\\x88\\\\xb4\\\\xe7\\\\x9c\\\\xbc\\\\xe9\\\\x8f\\\\xa1\\\\xe7\\\\x9a\\\\x84\\\\xe7\\\\xbe\\\\x8e\\\\xe4\\\\xb9\\\\xb3\\\\xe5\\\\xaf\\\\xb6\\\\xe8\\\\xb2\\\\x9d\\\\xe5\\\\x80\\\\x91 [Chinese]\\'\"  C:\\\\Users\\\\ajbzx\\\\python_project\\\\files_ziper/output/\"1508143-[Barlun] Majime de Megane na Oppai-tachi  很正經又戴眼鏡的美乳寶貝們 [Chinese]\"'"
      ]
     },
     "execution_count": 45,
     "metadata": {},
     "output_type": "execute_result"
    },
    {
     "data": {
      "text/plain": [
       "'adb\\\\adb pull /mnt/sdcard/EhViewer/download/\"b\\'1508506-Sky-Freedom (\\\\xe3\\\\x82\\\\xb9\\\\xe3\\\\x82\\\\xab\\\\xe3\\\\x82\\\\xa4) - JK Rich Thots (Complete)\\'\"  C:\\\\Users\\\\ajbzx\\\\python_project\\\\files_ziper/output/\"1508506-Sky-Freedom (スカイ) - JK Rich Thots (Complete)\"'"
      ]
     },
     "execution_count": 45,
     "metadata": {},
     "output_type": "execute_result"
    },
    {
     "data": {
      "text/plain": [
       "'adb\\\\adb pull /mnt/sdcard/EhViewer/download/\"b\\'1511994-[Kazakura] Hana Bira Otome [Chinese] [\\\\xe7\\\\xaf\\\\x86\\\\xe5\\\\x84\\\\x80\\\\xe9\\\\x80\\\\x9a\\\\xe6\\\\x96\\\\x87\\\\xe6\\\\x9b\\\\xb8\\\\xe5\\\\x9d\\\\x8a\\\\xe6\\\\xbc\\\\xa2\\\\xe5\\\\x8c\\\\x96]\\'\"  C:\\\\Users\\\\ajbzx\\\\python_project\\\\files_ziper/output/\"1511994-[Kazakura] Hana Bira Otome [Chinese] [篆儀通文書坊漢化]\"'"
      ]
     },
     "execution_count": 45,
     "metadata": {},
     "output_type": "execute_result"
    },
    {
     "data": {
      "text/plain": [
       "'adb\\\\adb pull /mnt/sdcard/EhViewer/download/\"b\\'1512978-[Yuuki Shin] Ecchi Life!(\\\\xe5\\\\x82\\\\xb2\\\\xe5\\\\xa8\\\\x87\\\\xe9\\\\x9b\\\\xb6\\\\xe3\\\\x81\\\\xae\\\\xe9\\\\x97\\\\xb4\\\\xe9\\\\x9a\\\\x99\\\\xe5\\\\xa8\\\\x98\\\\xe6\\\\x89\\\\xab\\\\xe5\\\\x9b\\\\xbe)\\'\"  C:\\\\Users\\\\ajbzx\\\\python_project\\\\files_ziper/output/\"1512978-[Yuuki Shin] Ecchi Life!(傲娇零の间隙娘扫图)\"'"
      ]
     },
     "execution_count": 45,
     "metadata": {},
     "output_type": "execute_result"
    },
    {
     "data": {
      "text/plain": [
       "'adb\\\\adb pull /mnt/sdcard/EhViewer/download/\"b\\'1515784-[Takeda Hiromitsu] Ima Ria [Chinese] [\\\\xe7\\\\xa9\\\\xba\\\\xe6\\\\xb0\\\\x97\\\\xe7\\\\xb3\\\\xbb\\\\xe2\\\\x98\\\\x86\\\\xe6\\\\xbc\\\\xa2\\\\xe5\\\\x8c\\\\x96]\\'\"  C:\\\\Users\\\\ajbzx\\\\python_project\\\\files_ziper/output/\"1515784-[Takeda Hiromitsu] Ima Ria [Chinese] [空気系☆漢化]\"'"
      ]
     },
     "execution_count": 45,
     "metadata": {},
     "output_type": "execute_result"
    },
    {
     "data": {
      "text/plain": [
       "'adb\\\\adb pull /mnt/sdcard/EhViewer/download/\"b\\'1516869-[Muneshiro] Dekiai Koubi [Chinese]\\'\"  C:\\\\Users\\\\ajbzx\\\\python_project\\\\files_ziper/output/\"1516869-[Muneshiro] Dekiai Koubi [Chinese]\"'"
      ]
     },
     "execution_count": 45,
     "metadata": {},
     "output_type": "execute_result"
    },
    {
     "data": {
      "text/plain": [
       "'adb\\\\adb pull /mnt/sdcard/EhViewer/download/\"b\\'938765-[Asamine Tel] Kyuuai Mental [Chinese] [\\\\xe5\\\\xa4\\\\xa7\\\\xe4\\\\xbb\\\\x99\\\\xe4\\\\xb8\\\\xaa\\\\xe4\\\\xba\\\\xba\\\\xe6\\\\xb1\\\\x89\\\\xe5\\\\x8c\\\\x96] [Digital]\\'\"  C:\\\\Users\\\\ajbzx\\\\python_project\\\\files_ziper/output/\"938765-[Asamine Tel] Kyuuai Mental [Chinese] [大仙个人汉化] [Digital]\"'"
      ]
     },
     "execution_count": 45,
     "metadata": {},
     "output_type": "execute_result"
    },
    {
     "data": {
      "text/plain": [
       "'adb\\\\adb pull /mnt/sdcard/EhViewer/download/\"b\\'953232-[Ashiomi Masato] D-Medal [Chinese] [\\\\xe7\\\\x84\\\\xa1\\\\xe9\\\\x82\\\\xaa\\\\xe6\\\\xb0\\\\x97\\\\xe6\\\\xbc\\\\xa2\\\\xe5\\\\x8c\\\\x96\\\\xe7\\\\xb5\\\\x84]\\'\"  C:\\\\Users\\\\ajbzx\\\\python_project\\\\files_ziper/output/\"953232-[Ashiomi Masato] D-Medal [Chinese] [無邪気漢化組]\"'"
      ]
     },
     "execution_count": 45,
     "metadata": {},
     "output_type": "execute_result"
    }
   ],
   "source": [
    "output_path=os.getcwd()+\"/output/\"\n",
    "#output_path=\"F:/from_backup/acg/ehv/\"\n",
    "#diff=check_diff2(output_path,list_)\n",
    "#diff2=check_diff3(output_path,list_)\n",
    "diff3=list_\n",
    "filename=diff[0]\n",
    "for i, file in enumerate(diff3):\n",
    "    filename=file\n",
    "    try:\n",
    "        filename_gbk=str(file.encode(\"utf-8\"))\n",
    "        \n",
    "        cmd='adb\\\\adb pull /mnt/sdcard/EhViewer/download/\"'+filename_gbk+'\"  '+output_path+'\"'+filename+'\"'\n",
    "        cmd\n",
    "    except Exception as e:\n",
    "        print(cmd)\n",
    "        print(e)\n",
    "        "
   ]
  },
  {
   "cell_type": "code",
   "execution_count": null,
   "metadata": {},
   "outputs": [],
   "source": []
  },
  {
   "cell_type": "code",
   "execution_count": 4,
   "metadata": {},
   "outputs": [
    {
     "name": "stdout",
     "output_type": "stream",
     "text": [
      "\n"
     ]
    }
   ],
   "source": [
    "p=subprocess.Popen(cmd, shell=True, stdin=subprocess.PIPE,stdout=subprocess.PIPE,stderr=subprocess.PIPE)#, shell=True\n",
    "out=p.stdout.read().decode(\"utf-8\")\n",
    "print(out)"
   ]
  },
  {
   "cell_type": "code",
   "execution_count": 50,
   "metadata": {},
   "outputs": [
    {
     "data": {
      "text/plain": [
       "0"
      ]
     },
     "execution_count": 50,
     "metadata": {},
     "output_type": "execute_result"
    }
   ],
   "source": [
    "os.system(cmd)"
   ]
  },
  {
   "cell_type": "code",
   "execution_count": 12,
   "metadata": {},
   "outputs": [
    {
     "name": "stderr",
     "output_type": "stream",
     "text": [
      "100%|████████████████████████████████████████████████████████████████████████████████| 224/224 [00:06<00:00, 32.09it/s]\n"
     ]
    }
   ],
   "source": [
    "zipDir(output_path+filename+'/',output_path+filename+'.zip')"
   ]
  },
  {
   "cell_type": "code",
   "execution_count": 34,
   "metadata": {},
   "outputs": [
    {
     "name": "stdout",
     "output_type": "stream",
     "text": [
      "72\n"
     ]
    },
    {
     "data": {
      "text/plain": [
       "{'1144825-[Muneshiro] Mesu Kousei [Chinese]',\n",
       " '1386661-[Itsutsuse] Babbyu Babyu Babyu [Chinese] [無邪気漢化組&篆儀通文書坊漢化]',\n",
       " '1413661-[doumou] Koi Yagate Midara  戀上後就淫亂 [chinese]',\n",
       " '1413834-[Gustav] Reika wa Karei na Boku no Maid [Chinese] [無邪気漢化組]',\n",
       " '1414243-[Koppe] Shitataru Onna  滴落女 [Chinese]',\n",
       " '1415905-[Tamagoro] Caramel Hame-Art  焦糖般的香甜性愛 [chinese]',\n",
       " '1420540-[Homunculus] Kyuuai Étranger - un étranger se fait courtiser [Chinese]',\n",
       " '1421448-[Esuke] Hatsukoi yori Kimochi Ii - Feels so good than my first love  比起初戀還要更舒服 [chinese]',\n",
       " '1423816-[DATE] Doukyo Suru Neneki CH1~6 [Chinese] [洨五組] [Digital]',\n",
       " '1423851-[ASa Project] Suki to Suki to de Sankaku Renai  Love Triangle Trouble [Decensored]',\n",
       " '1426314-[Suihei Sen] Bungo ni neko (COMIC HOTMILK 2019-07) [Chinese] [兔司姬漢化組] [Digital]',\n",
       " '1428498-[Suzudama Renri] Milky Memory  乳白色的淫靡記憶 [Chinese]',\n",
       " '1429590-[Inu] Hatsu Inu - Anfang Hund [Chinese] [Decensored]',\n",
       " '1441167-[Izumiya Otoha] Hatsukoi Melty - Melty First Love  初戀甜美溶化 [Chinese]',\n",
       " '1442303-[Kimirito]Ero Manga Hyogen Shi  成人漫畫表現史[Chinese]',\n",
       " '1443315-[Herio] Toshoshitsu o Shimete kara (COMIC ExE 18) [Chinese] [佳奈助汉化组] [Digital]',\n",
       " '1443628-[Shimapan (Tachibana Omina)] Isekai Harem Monogatari Soushuuhen 1 [Chinese]',\n",
       " '1444090-(C86) [MTSP (Jin)] 橘さん家ノ男性事情 まとめ版 [中国翻訳] [カラー化] [無修正]-(C86) [MTSP (Jin)] Tachibana-san-chi no Dansei Jijou Matome Ban [Chinese] [天月NTR漢化組x配菜無修改圖] [Colorized] [Decensored]',\n",
       " '1444180-[Napata] Sukidarake [Chinese] [脸肿汉化组]',\n",
       " '1448836-[Tonnosuke] Keiren Love Piston - Onee-san wa Hentai Omocha  痙攣愛慾活塞運動 大姊姊她是變態玩具 [Chinese]',\n",
       " '1451460-Artist Galleries  Arhoangel',\n",
       " '1451949-[Mikemono Yuu] Torokeru Gohoubi [Chinese] [無邪気漢化組]',\n",
       " '1455345-[Nekomata Naomi] Onedari Pussies [Chinese]',\n",
       " '1456935-[宇場義行] ハレムスパイラル [chinese]',\n",
       " '1456937-[Shinozuka Yuuji] Hajimeteno Hitozuma [Chinese]',\n",
       " '1457670-[Saicoro Chick (Hinasaki)] Houkago no Sasayaki [Chinese]',\n",
       " '1458033-[DATE] reincarnation ~Ubawareta Shoujo no Karada~ [Chinese] [篆儀通文書坊漢化]',\n",
       " '1458155-[Ikuhana Niro] Ikujitsu [Chinese]',\n",
       " \"1459302-[Kisen] Seijo-tachi no Komoriuta - Heroines' Lullaby [Chinese] [兔司姬X一匙咖啡豆聯合漢化]\",\n",
       " '1459924-[Tsukimoto Kizuki] Sex no Yoshuu Shimasen ka ~Seikou no Jitsugi Shiken ga Dounyuu Sareta Shakai~ Ch. 1 (COMIC Ananga Ranga Vol. 49) [Chinese] [無邪気漢化組]',\n",
       " '1462456-[Seacoxx] Zombie no Afureta Sekai de Ore Dake ga Osowarenai vol.2  I Walk Among Zombies Vol. 2 [Decensored]',\n",
       " '1462635-[Meme50] Limit Break [Chinese Translated]',\n",
       " '1462653-[Shiwasu no Okina] Ero Pippi  慾情♡青春 [Chinese] [未來數位中文] [Digital]',\n",
       " '1463665-(C96) [Anmitsuyomogitei (Michiking)] ANMITSU TOUHOU THE AFTER Vol.2 (Touhou Project) [Chinese] [CE家族社×無邪気]',\n",
       " '1466070-[Yanyo] Love Sugi! [Digital] [Decensored]',\n",
       " '1467027-[doumou] Koi Yagate Midara - Nasty after Love. [Chinese] [篆儀通文書坊漢化]',\n",
       " '1467293-[A-10] Load of Trash Kanzenban [Chinese] [沒有漢化]',\n",
       " '1467340-[mon-petit] Love & Libido - Kanojo-tachi no Seijijou [chinese]',\n",
       " '1470915-[Yamamoto Yammy] Nichijou Bitch Seitai Kansatsu [Chinese] [無邪気漢化組]',\n",
       " '1474855-[DMM.com] Unitia',\n",
       " '1481159-[Itsutsuse] Puchupuri Enkeki! (コミックゼロス #78) [無邪気漢化組][MJK-19-Z1662][無修正]',\n",
       " '1481241-[Kirihara You] Motto Meshimase  我們再多做幾次 [Chinese]',\n",
       " '1481768-[Ikeshita Maue] Choroane Lovers  輕浮淫姊騷浪愛人們 [Chinese]',\n",
       " '1483302-[Iwasaki Yuuki] Etsuran Chuui [Chinese]',\n",
       " '1485286-[Tanaka Naburu] Seieki Dorobou [chinese]',\n",
       " '1486271-[Key] Hime Hajime (COMIC Kairakuten 2019-09) [Chinese] [國家機器逼我個人翻譯] [Digital]',\n",
       " '1487213-[Thomas] Puffy Fragrance [chinese]',\n",
       " '1487814-[Asamine Tel] Onechan Zanmai! (COMIC BAVEL 2019-08) [Chinese] [佳奈助汉化组] [Digital]',\n",
       " '1491761-[DATE] Doukyo Suru Neneki CH1~7 [Chinese] [洨五組] [Digital]',\n",
       " '1493013-[Wakamesan] Saretagari [Chinese]',\n",
       " '1493748-[Shindou] Ojou-sama to Maid no Midara na Seikatsu [Chinese] [无毒汉化组]',\n",
       " '1497309-[Miyabi] Iromeki Dasu Sekai [Chinese] [無邪気漢化組]',\n",
       " '1498155-[Henkuma] Libido [chinese]',\n",
       " \"1498684-[Okumoto Yuuta] Hamechichi! - Let's Make Love Oppai! [Chinese]\",\n",
       " '1499965-[鳳まひろ] 僕の異世界ハーレム 総集編 1 [chinese]',\n",
       " '1500147-[Katsurai Yoshiaki] Amatsuka Gakuen no Ryoukan Seikatsu Ch.1-3 [Chinese]',\n",
       " '1501175-[Booch] Ultra Love Love Aishiteru!! [Chinese] [篆儀通文書坊漢化]',\n",
       " '1501609-[Pei] Hajirai Honey  羞答答的小白兔 [Chinese]',\n",
       " '1503626-[Whirlpool] Neko-nin exHeart 3 [Decensored]',\n",
       " '1504276-[Yagami Shuuichi] Kanrichuu no Sore o Shibatte Agetai  管理中的那根想幫你緊緊綑綁住 [Chinese]',\n",
       " '1504425-[Yokoshima Nikki] Yokoshima Musume',\n",
       " '1504904-[绅士仓库汉化] [もじゃりん] 1回だけ (COMIC快楽天 2018年8月号) [無修正]',\n",
       " '1505690-[Akino Sora] Sleep Learning -Zenpen- (COMIC X-EROS 79) [Chinese] [無邪気漢化組] [Digital]',\n",
       " '1505699-[Akino Sora] Sleep Learning -Kouhen- (COMIC X-EROS 80) [Chinese] [無邪気漢化組] [Digital]',\n",
       " '1506396-[Jorori] Kimi ga Suki。 好喜歡你。[Chinese]',\n",
       " '1508143-[Barlun] Majime de Megane na Oppai-tachi  很正經又戴眼鏡的美乳寶貝們 [Chinese]',\n",
       " '1508506-Sky-Freedom (スカイ) - JK Rich Thots (Complete)',\n",
       " '1511994-[Kazakura] Hana Bira Otome [Chinese] [篆儀通文書坊漢化]',\n",
       " '1512978-[Yuuki Shin] Ecchi Life!(傲娇零の间隙娘扫图)',\n",
       " '1515784-[Takeda Hiromitsu] Ima Ria [Chinese] [空気系☆漢化]',\n",
       " '1516869-[Muneshiro] Dekiai Koubi [Chinese]',\n",
       " '953232-[Ashiomi Masato] D-Medal [Chinese] [無邪気漢化組]'}"
      ]
     },
     "execution_count": 34,
     "metadata": {},
     "output_type": "execute_result"
    }
   ],
   "source": []
  },
  {
   "cell_type": "code",
   "execution_count": 13,
   "metadata": {},
   "outputs": [
    {
     "data": {
      "text/plain": [
       "'utf-8'"
      ]
     },
     "execution_count": 13,
     "metadata": {},
     "output_type": "execute_result"
    }
   ],
   "source": [
    "import sys\n",
    "sys.getdefaultencoding()"
   ]
  },
  {
   "cell_type": "code",
   "execution_count": null,
   "metadata": {},
   "outputs": [],
   "source": []
  }
 ],
 "metadata": {
  "kernelspec": {
   "display_name": "Python 3",
   "language": "python",
   "name": "python3"
  }
 },
 "nbformat": 4,
 "nbformat_minor": 2
}
